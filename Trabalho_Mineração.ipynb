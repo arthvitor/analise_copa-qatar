{
  "nbformat": 4,
  "nbformat_minor": 0,
  "metadata": {
    "colab": {
      "provenance": []
    },
    "kernelspec": {
      "name": "python3",
      "display_name": "Python 3"
    },
    "language_info": {
      "name": "python"
    }
  },
  "cells": [
    {
      "cell_type": "markdown",
      "source": [
        "# Análise de Conteúdo - Qatar\n",
        "\n",
        "Análise do Conteúdo dos Tweets dos veículos jornalísticos sobre a cobertura jornalística no Qatar.\n",
        "\n",
        "Trabalho desenvolvido para a disciplina Mineiração de Dados Não Estruturados, do curso de Pós-graduação em Jornalismo de Dados, Automação e Data Storytelling.\n",
        "\n",
        "Código executado no Google Colab\n",
        "\n",
        "**Grupo**: Ananda Ridart, Gabriel Ronan, Géssica Brandino e Vitor Arthur\n",
        "\n",
        "**Professora**: Clarisse Castellã"
      ],
      "metadata": {
        "id": "fe-SerO8SLJL"
      }
    },
    {
      "cell_type": "markdown",
      "source": [
        "# Etapa 1 - Importações e Requisições no Twitter"
      ],
      "metadata": {
        "id": "cMsV6q9cS4tm"
      }
    },
    {
      "cell_type": "markdown",
      "source": [
        "## Primeiros passos"
      ],
      "metadata": {
        "id": "Le2Cj-BQTAep"
      }
    },
    {
      "cell_type": "code",
      "execution_count": null,
      "metadata": {
        "id": "uF_kC62rSHvA"
      },
      "outputs": [],
      "source": [
        "# instalando twint no colab\n",
        "!git clone --depth=1 https://github.com/twintproject/twint.git\n",
        "!cd /content/twint && pip3 install . -r requirements.txt && pip install aiohttp==3.7.0 --force-reinstal"
      ]
    },
    {
      "cell_type": "code",
      "source": [
        "# instalando outras bibliotecas\n",
        "!pip install nest-asyncio\n",
        "!pip install nltk"
      ],
      "metadata": {
        "id": "8xDgzli4T8hh"
      },
      "execution_count": null,
      "outputs": []
    },
    {
      "cell_type": "code",
      "source": [
        "# importando bibliotecas\n",
        "from google.colab import drive\n",
        "drive.mount('/content/drive')\n",
        "import os\n",
        "import pandas as pd\n",
        "#import twint\n",
        "#import nest_asyncio\n",
        "from os import path \n",
        "from re import A\n",
        "from sklearn.model_selection import train_test_split\n",
        "\n",
        "# baixando recursos para processamento de linguagem natural\n",
        "import nltk\n",
        "from nltk.tokenize import word_tokenize\n",
        "from nltk.classify import NaiveBayesClassifier, MaxentClassifier, SklearnClassifier\n",
        "from sklearn.svm import LinearSVC\n",
        "nltk.download('punkt')\n",
        "nltk.download('stopwords')\n"
      ],
      "metadata": {
        "id": "dW8g0hqlUO9l"
      },
      "execution_count": null,
      "outputs": []
    },
    {
      "cell_type": "markdown",
      "source": [
        "## Coleta\n",
        "\n"
      ],
      "metadata": {
        "id": "7ee7nKlO4fPd"
      }
    },
    {
      "cell_type": "markdown",
      "source": [
        "### Fazendo scraper para recolher tweets do Globo Esporte\n",
        "Utilizando a palavra-chave: \"Qatar\", \"Catar\" e \"Copa\""
      ],
      "metadata": {
        "id": "1o28pmnCVbNy"
      }
    },
    {
      "cell_type": "code",
      "source": [
        "# pre-requisito para o twint funcionar\n",
        "nest_asyncio.apply()\n",
        "\n",
        "# criando requisição usando twint\n",
        "c = twint.Config()\n",
        "c.Limit = 500  # quantidade de tweets\n",
        "c.Store_csv = True  # arquivo em csv\n",
        "c.Search = 'Catar'  # query - \"Qatar\", \"Catar\" e \"Copa\"\n",
        "c.Username = 'geglobo'  # perfil que será observado\n",
        "text_file = '/content/drive/MyDrive/Insper/projeto_mineiracao/catar_globo.csv' \n",
        "c.Output = text_file\n",
        "\n",
        "# rodando requsição\n",
        "twint.run.Search(c)"
      ],
      "metadata": {
        "id": "J6LVVJHXVa7k"
      },
      "execution_count": null,
      "outputs": []
    },
    {
      "cell_type": "markdown",
      "source": [
        "### Fazendo scraper para recolher tweets do LanceNet\n",
        "Utilizando a palavra-chave: \"Qatar\", \"Catar\" e \"Copa\""
      ],
      "metadata": {
        "id": "QE7qe-4TnfTV"
      }
    },
    {
      "cell_type": "code",
      "source": [
        "# pre-requisito para o twint funcionar\n",
        "nest_asyncio.apply()\n",
        "\n",
        "# criando requisição usando twint\n",
        "d = twint.Config()\n",
        "d.Limit = 500  # quantidade de tweets\n",
        "d.Store_csv = True  # arquivo em csv\n",
        "d.Search = 'Qatar'  # query - \"Qatar\", \"Catar\" e \"Copa\"\n",
        "d.Username = 'lancenet'  # perfil que será observado\n",
        "text_file = '/content/drive/MyDrive/Insper/projeto_mineiracao/catar_lancenet.csv' \n",
        "d.Output = text_file\n",
        "\n",
        "# rodando requsição\n",
        "twint.run.Search(d)"
      ],
      "metadata": {
        "id": "ALHzgPOcni0Z"
      },
      "execution_count": null,
      "outputs": []
    },
    {
      "cell_type": "markdown",
      "source": [
        "### Fazendo scraper para recolher tweets do Uol Esportes\n",
        "Utilizando a palavra-chave: \"Qatar\", \"Catar\" e \"Copa\""
      ],
      "metadata": {
        "id": "_UzOS8lU2ac0"
      }
    },
    {
      "cell_type": "code",
      "source": [
        "# pre-requisito para o twint funcionar\n",
        "nest_asyncio.apply()\n",
        "\n",
        "# criando requisição usando twint\n",
        "e = twint.Config()\n",
        "e.Limit = 500  # quantidade de tweets\n",
        "e.Store_csv = True  # arquivo em csv\n",
        "e.Search = 'Qatar'  # query - \"Qatar\", \"Catar\" e \"Copa\"\n",
        "e.Username = 'UOLEsporte'  # perfil que será observado\n",
        "text_file = '/content/drive/MyDrive/Insper/projeto_mineiracao/catar_uol.csv' \n",
        "e.Output = text_file\n",
        "\n",
        "# rodando requsição\n",
        "twint.run.Search(d)"
      ],
      "metadata": {
        "id": "N827me9h2ac1"
      },
      "execution_count": null,
      "outputs": []
    },
    {
      "cell_type": "markdown",
      "source": [
        "### Fazendo scraper para recolher tweets do ESPM\n",
        "Utilizando a palavra-chave: \"Qatar\", \"Catar\" e \"Copa\""
      ],
      "metadata": {
        "id": "RqjXttjW22aj"
      }
    },
    {
      "cell_type": "code",
      "source": [
        "# pre-requisito para o twint funcionar\n",
        "nest_asyncio.apply()\n",
        "\n",
        "# criando requisição usando twint\n",
        "f = twint.Config()\n",
        "f.Limit = 500  # quantidade de tweets\n",
        "f.Store_csv = True  # arquivo em csv\n",
        "f.Search = 'Copa'  # query - \"Qatar\", \"Catar\" e \"Copa\"\n",
        "f.Username = 'ESPNBrasil'  # perfil que será observado\n",
        "text_file = '/content/drive/MyDrive/Insper/projeto_mineiracao/copa_espn.csv' \n",
        "f.Output = text_file\n",
        "\n",
        "# rodando requsição\n",
        "twint.run.Search(f)"
      ],
      "metadata": {
        "id": "_nbVfy2X22aj"
      },
      "execution_count": null,
      "outputs": []
    },
    {
      "cell_type": "markdown",
      "source": [
        "# Etapa 2: Criando Dataframe principal"
      ],
      "metadata": {
        "id": "EXm0xl-9D-s2"
      }
    },
    {
      "cell_type": "markdown",
      "source": [
        "## Juntando todos os dataframes de coleta"
      ],
      "metadata": {
        "id": "bbJv47mYEMl2"
      }
    },
    {
      "cell_type": "code",
      "source": [
        "# lendo dataframes\n",
        "def leitura_dataframe(caminho = list(), palavra_chave = list()):\n",
        "  # lista de dataframes\n",
        "  dfs = []\n",
        "  contc = 0\n",
        "\n",
        "  # lendo um dataframe por vez\n",
        "  for c in caminho:\n",
        "    for p in palavra_chave:\n",
        "      df = pd.read_csv(c[contc], sep = ',')\n",
        "      df['palavra_chave'] = p\n",
        "      dfs.append(df)\n",
        "      contc += 1\n",
        "      if contc == 3:\n",
        "        contc = 0\n",
        "  \n",
        "  df = pd.concat(dfs)\n",
        "  df = df.reset_index()\n",
        "  return df\n",
        "\n",
        "# MAIN\n",
        "# listas para iterar os caminhos, nomes e palavras-chave\n",
        "caminhos = [['/content/drive/MyDrive/Insper/projeto_mineiracao/catar_globo.csv',\n",
        "             '/content/drive/MyDrive/Insper/projeto_mineiracao/qatar_globo.csv',\n",
        "             '/content/drive/MyDrive/Insper/projeto_mineiracao/copa_globo.csv'],\n",
        "            ['/content/drive/MyDrive/Insper/projeto_mineiracao/catar_lance.csv', \n",
        "             '/content/drive/MyDrive/Insper/projeto_mineiracao/qatar_lance.csv',\n",
        "             '/content/drive/MyDrive/Insper/projeto_mineiracao/copa_lance.csv'],\n",
        "            ['/content/drive/MyDrive/Insper/projeto_mineiracao/catar_uol.csv',\n",
        "             '/content/drive/MyDrive/Insper/projeto_mineiracao/qatar_uol.csv', \n",
        "             '/content/drive/MyDrive/Insper/projeto_mineiracao/copa_uol.csv'],\n",
        "            ['/content/drive/MyDrive/Insper/projeto_mineiracao/catar_espn.csv',\n",
        "             '/content/drive/MyDrive/Insper/projeto_mineiracao/qatar_espn.csv',\n",
        "             '/content/drive/MyDrive/Insper/projeto_mineiracao/copa_espn.csv']]\n",
        "palavras = ['catar', 'qatar', 'copa']\n",
        "\n",
        "# iterável com caminhos para leitura dos datasets\n",
        "df_total = leitura_dataframe(caminhos, palavras)"
      ],
      "metadata": {
        "id": "AeCZPhkuERRF"
      },
      "execution_count": null,
      "outputs": []
    },
    {
      "cell_type": "markdown",
      "source": [
        "## Retirando repetições para finalizar o dataset"
      ],
      "metadata": {
        "id": "EohrgAVo1ei8"
      }
    },
    {
      "cell_type": "code",
      "source": [
        "# mostrando dataframe com todas as coletas\n",
        "df_total.head(10)"
      ],
      "metadata": {
        "id": "v5IBW2O70KFW"
      },
      "execution_count": null,
      "outputs": []
    },
    {
      "cell_type": "code",
      "source": [
        "df_total.to_csv('tweets_catar.csv')"
      ],
      "metadata": {
        "id": "Wcd8Gjfi_JIp"
      },
      "execution_count": null,
      "outputs": []
    },
    {
      "cell_type": "code",
      "source": [
        "# mostrando as colunas do dataset\n",
        "df_total.columns"
      ],
      "metadata": {
        "id": "L3_s7UzZ08cw"
      },
      "execution_count": null,
      "outputs": []
    },
    {
      "cell_type": "code",
      "source": [
        "# retirando repetições dos tweets\n",
        "df_total.drop_duplicates(subset=['tweet'], inplace=True)"
      ],
      "metadata": {
        "id": "nB2EC2su__c8"
      },
      "execution_count": null,
      "outputs": []
    },
    {
      "cell_type": "code",
      "source": [
        "df_total"
      ],
      "metadata": {
        "colab": {
          "base_uri": "https://localhost:8080/",
          "height": 835
        },
        "id": "qpfDVHuGAB6a",
        "outputId": "ea0a20e2-a4c9-4d55-bfb8-63e33250ec9a"
      },
      "execution_count": null,
      "outputs": [
        {
          "output_type": "execute_result",
          "data": {
            "text/plain": [
              "      index                   id      conversation_id  \\\n",
              "0         0  1598742544690679821  1598742544690679821   \n",
              "1         1  1598738771108765696  1598738771108765696   \n",
              "2         2  1598692584158859265  1598692584158859265   \n",
              "3         3  1598692319640829959  1598692319640829959   \n",
              "4         4  1598660543031566337  1598660543031566337   \n",
              "...     ...                  ...                  ...   \n",
              "2583    494  1596300665412030464  1596300665412030464   \n",
              "2584    495  1596279860900397056  1596279860900397056   \n",
              "2585    496  1596279387858550784  1596279387858550784   \n",
              "2586    497  1596277690444967936  1596277690444967936   \n",
              "2588    499  1596260228403589120  1596260228403589120   \n",
              "\n",
              "                   created_at        date      time  timezone   user_id  \\\n",
              "0     2022-12-02 18:15:00 UTC  2022-12-02  18:15:00         0  10842792   \n",
              "1     2022-12-02 18:00:00 UTC  2022-12-02  18:00:00         0  10842792   \n",
              "2     2022-12-02 14:56:28 UTC  2022-12-02  14:56:28         0  10842792   \n",
              "3     2022-12-02 14:55:25 UTC  2022-12-02  14:55:25         0  10842792   \n",
              "4     2022-12-02 12:49:09 UTC  2022-12-02  12:49:09         0  10842792   \n",
              "...                       ...         ...       ...       ...       ...   \n",
              "2583  2022-11-26 00:31:51 UTC  2022-11-26  00:31:51         0  51124892   \n",
              "2584  2022-11-25 23:09:10 UTC  2022-11-25  23:09:10         0  51124892   \n",
              "2585  2022-11-25 23:07:18 UTC  2022-11-25  23:07:18         0  51124892   \n",
              "2586  2022-11-25 23:00:33 UTC  2022-11-25  23:00:33         0  51124892   \n",
              "2588  2022-11-25 21:51:10 UTC  2022-11-25  21:51:10         0  51124892   \n",
              "\n",
              "        username         name  ...  source user_rt_id user_rt retweet_id  \\\n",
              "0        geglobo           ge  ...     NaN        NaN     NaN        NaN   \n",
              "1        geglobo           ge  ...     NaN        NaN     NaN        NaN   \n",
              "2        geglobo           ge  ...     NaN        NaN     NaN        NaN   \n",
              "3        geglobo           ge  ...     NaN        NaN     NaN        NaN   \n",
              "4        geglobo           ge  ...     NaN        NaN     NaN        NaN   \n",
              "...          ...          ...  ...     ...        ...     ...        ...   \n",
              "2583  espnbrasil  ESPN Brasil  ...     NaN        NaN     NaN        NaN   \n",
              "2584  espnbrasil  ESPN Brasil  ...     NaN        NaN     NaN        NaN   \n",
              "2585  espnbrasil  ESPN Brasil  ...     NaN        NaN     NaN        NaN   \n",
              "2586  espnbrasil  ESPN Brasil  ...     NaN        NaN     NaN        NaN   \n",
              "2588  espnbrasil  ESPN Brasil  ...     NaN        NaN     NaN        NaN   \n",
              "\n",
              "     reply_to retweet_date  translate  trans_src  trans_dest palavra_chave  \n",
              "0          []          NaN        NaN        NaN         NaN         catar  \n",
              "1          []          NaN        NaN        NaN         NaN         catar  \n",
              "2          []          NaN        NaN        NaN         NaN         catar  \n",
              "3          []          NaN        NaN        NaN         NaN         catar  \n",
              "4          []          NaN        NaN        NaN         NaN         catar  \n",
              "...       ...          ...        ...        ...         ...           ...  \n",
              "2583       []          NaN        NaN        NaN         NaN          copa  \n",
              "2584       []          NaN        NaN        NaN         NaN          copa  \n",
              "2585       []          NaN        NaN        NaN         NaN          copa  \n",
              "2586       []          NaN        NaN        NaN         NaN          copa  \n",
              "2588       []          NaN        NaN        NaN         NaN          copa  \n",
              "\n",
              "[2138 rows x 38 columns]"
            ],
            "text/html": [
              "\n",
              "  <div id=\"df-b0a2b8bc-8c1f-4cb7-98fc-052ed9e5fe27\">\n",
              "    <div class=\"colab-df-container\">\n",
              "      <div>\n",
              "<style scoped>\n",
              "    .dataframe tbody tr th:only-of-type {\n",
              "        vertical-align: middle;\n",
              "    }\n",
              "\n",
              "    .dataframe tbody tr th {\n",
              "        vertical-align: top;\n",
              "    }\n",
              "\n",
              "    .dataframe thead th {\n",
              "        text-align: right;\n",
              "    }\n",
              "</style>\n",
              "<table border=\"1\" class=\"dataframe\">\n",
              "  <thead>\n",
              "    <tr style=\"text-align: right;\">\n",
              "      <th></th>\n",
              "      <th>index</th>\n",
              "      <th>id</th>\n",
              "      <th>conversation_id</th>\n",
              "      <th>created_at</th>\n",
              "      <th>date</th>\n",
              "      <th>time</th>\n",
              "      <th>timezone</th>\n",
              "      <th>user_id</th>\n",
              "      <th>username</th>\n",
              "      <th>name</th>\n",
              "      <th>...</th>\n",
              "      <th>source</th>\n",
              "      <th>user_rt_id</th>\n",
              "      <th>user_rt</th>\n",
              "      <th>retweet_id</th>\n",
              "      <th>reply_to</th>\n",
              "      <th>retweet_date</th>\n",
              "      <th>translate</th>\n",
              "      <th>trans_src</th>\n",
              "      <th>trans_dest</th>\n",
              "      <th>palavra_chave</th>\n",
              "    </tr>\n",
              "  </thead>\n",
              "  <tbody>\n",
              "    <tr>\n",
              "      <th>0</th>\n",
              "      <td>0</td>\n",
              "      <td>1598742544690679821</td>\n",
              "      <td>1598742544690679821</td>\n",
              "      <td>2022-12-02 18:15:00 UTC</td>\n",
              "      <td>2022-12-02</td>\n",
              "      <td>18:15:00</td>\n",
              "      <td>0</td>\n",
              "      <td>10842792</td>\n",
              "      <td>geglobo</td>\n",
              "      <td>ge</td>\n",
              "      <td>...</td>\n",
              "      <td>NaN</td>\n",
              "      <td>NaN</td>\n",
              "      <td>NaN</td>\n",
              "      <td>NaN</td>\n",
              "      <td>[]</td>\n",
              "      <td>NaN</td>\n",
              "      <td>NaN</td>\n",
              "      <td>NaN</td>\n",
              "      <td>NaN</td>\n",
              "      <td>catar</td>\n",
              "    </tr>\n",
              "    <tr>\n",
              "      <th>1</th>\n",
              "      <td>1</td>\n",
              "      <td>1598738771108765696</td>\n",
              "      <td>1598738771108765696</td>\n",
              "      <td>2022-12-02 18:00:00 UTC</td>\n",
              "      <td>2022-12-02</td>\n",
              "      <td>18:00:00</td>\n",
              "      <td>0</td>\n",
              "      <td>10842792</td>\n",
              "      <td>geglobo</td>\n",
              "      <td>ge</td>\n",
              "      <td>...</td>\n",
              "      <td>NaN</td>\n",
              "      <td>NaN</td>\n",
              "      <td>NaN</td>\n",
              "      <td>NaN</td>\n",
              "      <td>[]</td>\n",
              "      <td>NaN</td>\n",
              "      <td>NaN</td>\n",
              "      <td>NaN</td>\n",
              "      <td>NaN</td>\n",
              "      <td>catar</td>\n",
              "    </tr>\n",
              "    <tr>\n",
              "      <th>2</th>\n",
              "      <td>2</td>\n",
              "      <td>1598692584158859265</td>\n",
              "      <td>1598692584158859265</td>\n",
              "      <td>2022-12-02 14:56:28 UTC</td>\n",
              "      <td>2022-12-02</td>\n",
              "      <td>14:56:28</td>\n",
              "      <td>0</td>\n",
              "      <td>10842792</td>\n",
              "      <td>geglobo</td>\n",
              "      <td>ge</td>\n",
              "      <td>...</td>\n",
              "      <td>NaN</td>\n",
              "      <td>NaN</td>\n",
              "      <td>NaN</td>\n",
              "      <td>NaN</td>\n",
              "      <td>[]</td>\n",
              "      <td>NaN</td>\n",
              "      <td>NaN</td>\n",
              "      <td>NaN</td>\n",
              "      <td>NaN</td>\n",
              "      <td>catar</td>\n",
              "    </tr>\n",
              "    <tr>\n",
              "      <th>3</th>\n",
              "      <td>3</td>\n",
              "      <td>1598692319640829959</td>\n",
              "      <td>1598692319640829959</td>\n",
              "      <td>2022-12-02 14:55:25 UTC</td>\n",
              "      <td>2022-12-02</td>\n",
              "      <td>14:55:25</td>\n",
              "      <td>0</td>\n",
              "      <td>10842792</td>\n",
              "      <td>geglobo</td>\n",
              "      <td>ge</td>\n",
              "      <td>...</td>\n",
              "      <td>NaN</td>\n",
              "      <td>NaN</td>\n",
              "      <td>NaN</td>\n",
              "      <td>NaN</td>\n",
              "      <td>[]</td>\n",
              "      <td>NaN</td>\n",
              "      <td>NaN</td>\n",
              "      <td>NaN</td>\n",
              "      <td>NaN</td>\n",
              "      <td>catar</td>\n",
              "    </tr>\n",
              "    <tr>\n",
              "      <th>4</th>\n",
              "      <td>4</td>\n",
              "      <td>1598660543031566337</td>\n",
              "      <td>1598660543031566337</td>\n",
              "      <td>2022-12-02 12:49:09 UTC</td>\n",
              "      <td>2022-12-02</td>\n",
              "      <td>12:49:09</td>\n",
              "      <td>0</td>\n",
              "      <td>10842792</td>\n",
              "      <td>geglobo</td>\n",
              "      <td>ge</td>\n",
              "      <td>...</td>\n",
              "      <td>NaN</td>\n",
              "      <td>NaN</td>\n",
              "      <td>NaN</td>\n",
              "      <td>NaN</td>\n",
              "      <td>[]</td>\n",
              "      <td>NaN</td>\n",
              "      <td>NaN</td>\n",
              "      <td>NaN</td>\n",
              "      <td>NaN</td>\n",
              "      <td>catar</td>\n",
              "    </tr>\n",
              "    <tr>\n",
              "      <th>...</th>\n",
              "      <td>...</td>\n",
              "      <td>...</td>\n",
              "      <td>...</td>\n",
              "      <td>...</td>\n",
              "      <td>...</td>\n",
              "      <td>...</td>\n",
              "      <td>...</td>\n",
              "      <td>...</td>\n",
              "      <td>...</td>\n",
              "      <td>...</td>\n",
              "      <td>...</td>\n",
              "      <td>...</td>\n",
              "      <td>...</td>\n",
              "      <td>...</td>\n",
              "      <td>...</td>\n",
              "      <td>...</td>\n",
              "      <td>...</td>\n",
              "      <td>...</td>\n",
              "      <td>...</td>\n",
              "      <td>...</td>\n",
              "      <td>...</td>\n",
              "    </tr>\n",
              "    <tr>\n",
              "      <th>2583</th>\n",
              "      <td>494</td>\n",
              "      <td>1596300665412030464</td>\n",
              "      <td>1596300665412030464</td>\n",
              "      <td>2022-11-26 00:31:51 UTC</td>\n",
              "      <td>2022-11-26</td>\n",
              "      <td>00:31:51</td>\n",
              "      <td>0</td>\n",
              "      <td>51124892</td>\n",
              "      <td>espnbrasil</td>\n",
              "      <td>ESPN Brasil</td>\n",
              "      <td>...</td>\n",
              "      <td>NaN</td>\n",
              "      <td>NaN</td>\n",
              "      <td>NaN</td>\n",
              "      <td>NaN</td>\n",
              "      <td>[]</td>\n",
              "      <td>NaN</td>\n",
              "      <td>NaN</td>\n",
              "      <td>NaN</td>\n",
              "      <td>NaN</td>\n",
              "      <td>copa</td>\n",
              "    </tr>\n",
              "    <tr>\n",
              "      <th>2584</th>\n",
              "      <td>495</td>\n",
              "      <td>1596279860900397056</td>\n",
              "      <td>1596279860900397056</td>\n",
              "      <td>2022-11-25 23:09:10 UTC</td>\n",
              "      <td>2022-11-25</td>\n",
              "      <td>23:09:10</td>\n",
              "      <td>0</td>\n",
              "      <td>51124892</td>\n",
              "      <td>espnbrasil</td>\n",
              "      <td>ESPN Brasil</td>\n",
              "      <td>...</td>\n",
              "      <td>NaN</td>\n",
              "      <td>NaN</td>\n",
              "      <td>NaN</td>\n",
              "      <td>NaN</td>\n",
              "      <td>[]</td>\n",
              "      <td>NaN</td>\n",
              "      <td>NaN</td>\n",
              "      <td>NaN</td>\n",
              "      <td>NaN</td>\n",
              "      <td>copa</td>\n",
              "    </tr>\n",
              "    <tr>\n",
              "      <th>2585</th>\n",
              "      <td>496</td>\n",
              "      <td>1596279387858550784</td>\n",
              "      <td>1596279387858550784</td>\n",
              "      <td>2022-11-25 23:07:18 UTC</td>\n",
              "      <td>2022-11-25</td>\n",
              "      <td>23:07:18</td>\n",
              "      <td>0</td>\n",
              "      <td>51124892</td>\n",
              "      <td>espnbrasil</td>\n",
              "      <td>ESPN Brasil</td>\n",
              "      <td>...</td>\n",
              "      <td>NaN</td>\n",
              "      <td>NaN</td>\n",
              "      <td>NaN</td>\n",
              "      <td>NaN</td>\n",
              "      <td>[]</td>\n",
              "      <td>NaN</td>\n",
              "      <td>NaN</td>\n",
              "      <td>NaN</td>\n",
              "      <td>NaN</td>\n",
              "      <td>copa</td>\n",
              "    </tr>\n",
              "    <tr>\n",
              "      <th>2586</th>\n",
              "      <td>497</td>\n",
              "      <td>1596277690444967936</td>\n",
              "      <td>1596277690444967936</td>\n",
              "      <td>2022-11-25 23:00:33 UTC</td>\n",
              "      <td>2022-11-25</td>\n",
              "      <td>23:00:33</td>\n",
              "      <td>0</td>\n",
              "      <td>51124892</td>\n",
              "      <td>espnbrasil</td>\n",
              "      <td>ESPN Brasil</td>\n",
              "      <td>...</td>\n",
              "      <td>NaN</td>\n",
              "      <td>NaN</td>\n",
              "      <td>NaN</td>\n",
              "      <td>NaN</td>\n",
              "      <td>[]</td>\n",
              "      <td>NaN</td>\n",
              "      <td>NaN</td>\n",
              "      <td>NaN</td>\n",
              "      <td>NaN</td>\n",
              "      <td>copa</td>\n",
              "    </tr>\n",
              "    <tr>\n",
              "      <th>2588</th>\n",
              "      <td>499</td>\n",
              "      <td>1596260228403589120</td>\n",
              "      <td>1596260228403589120</td>\n",
              "      <td>2022-11-25 21:51:10 UTC</td>\n",
              "      <td>2022-11-25</td>\n",
              "      <td>21:51:10</td>\n",
              "      <td>0</td>\n",
              "      <td>51124892</td>\n",
              "      <td>espnbrasil</td>\n",
              "      <td>ESPN Brasil</td>\n",
              "      <td>...</td>\n",
              "      <td>NaN</td>\n",
              "      <td>NaN</td>\n",
              "      <td>NaN</td>\n",
              "      <td>NaN</td>\n",
              "      <td>[]</td>\n",
              "      <td>NaN</td>\n",
              "      <td>NaN</td>\n",
              "      <td>NaN</td>\n",
              "      <td>NaN</td>\n",
              "      <td>copa</td>\n",
              "    </tr>\n",
              "  </tbody>\n",
              "</table>\n",
              "<p>2138 rows × 38 columns</p>\n",
              "</div>\n",
              "      <button class=\"colab-df-convert\" onclick=\"convertToInteractive('df-b0a2b8bc-8c1f-4cb7-98fc-052ed9e5fe27')\"\n",
              "              title=\"Convert this dataframe to an interactive table.\"\n",
              "              style=\"display:none;\">\n",
              "        \n",
              "  <svg xmlns=\"http://www.w3.org/2000/svg\" height=\"24px\"viewBox=\"0 0 24 24\"\n",
              "       width=\"24px\">\n",
              "    <path d=\"M0 0h24v24H0V0z\" fill=\"none\"/>\n",
              "    <path d=\"M18.56 5.44l.94 2.06.94-2.06 2.06-.94-2.06-.94-.94-2.06-.94 2.06-2.06.94zm-11 1L8.5 8.5l.94-2.06 2.06-.94-2.06-.94L8.5 2.5l-.94 2.06-2.06.94zm10 10l.94 2.06.94-2.06 2.06-.94-2.06-.94-.94-2.06-.94 2.06-2.06.94z\"/><path d=\"M17.41 7.96l-1.37-1.37c-.4-.4-.92-.59-1.43-.59-.52 0-1.04.2-1.43.59L10.3 9.45l-7.72 7.72c-.78.78-.78 2.05 0 2.83L4 21.41c.39.39.9.59 1.41.59.51 0 1.02-.2 1.41-.59l7.78-7.78 2.81-2.81c.8-.78.8-2.07 0-2.86zM5.41 20L4 18.59l7.72-7.72 1.47 1.35L5.41 20z\"/>\n",
              "  </svg>\n",
              "      </button>\n",
              "      \n",
              "  <style>\n",
              "    .colab-df-container {\n",
              "      display:flex;\n",
              "      flex-wrap:wrap;\n",
              "      gap: 12px;\n",
              "    }\n",
              "\n",
              "    .colab-df-convert {\n",
              "      background-color: #E8F0FE;\n",
              "      border: none;\n",
              "      border-radius: 50%;\n",
              "      cursor: pointer;\n",
              "      display: none;\n",
              "      fill: #1967D2;\n",
              "      height: 32px;\n",
              "      padding: 0 0 0 0;\n",
              "      width: 32px;\n",
              "    }\n",
              "\n",
              "    .colab-df-convert:hover {\n",
              "      background-color: #E2EBFA;\n",
              "      box-shadow: 0px 1px 2px rgba(60, 64, 67, 0.3), 0px 1px 3px 1px rgba(60, 64, 67, 0.15);\n",
              "      fill: #174EA6;\n",
              "    }\n",
              "\n",
              "    [theme=dark] .colab-df-convert {\n",
              "      background-color: #3B4455;\n",
              "      fill: #D2E3FC;\n",
              "    }\n",
              "\n",
              "    [theme=dark] .colab-df-convert:hover {\n",
              "      background-color: #434B5C;\n",
              "      box-shadow: 0px 1px 3px 1px rgba(0, 0, 0, 0.15);\n",
              "      filter: drop-shadow(0px 1px 2px rgba(0, 0, 0, 0.3));\n",
              "      fill: #FFFFFF;\n",
              "    }\n",
              "  </style>\n",
              "\n",
              "      <script>\n",
              "        const buttonEl =\n",
              "          document.querySelector('#df-b0a2b8bc-8c1f-4cb7-98fc-052ed9e5fe27 button.colab-df-convert');\n",
              "        buttonEl.style.display =\n",
              "          google.colab.kernel.accessAllowed ? 'block' : 'none';\n",
              "\n",
              "        async function convertToInteractive(key) {\n",
              "          const element = document.querySelector('#df-b0a2b8bc-8c1f-4cb7-98fc-052ed9e5fe27');\n",
              "          const dataTable =\n",
              "            await google.colab.kernel.invokeFunction('convertToInteractive',\n",
              "                                                     [key], {});\n",
              "          if (!dataTable) return;\n",
              "\n",
              "          const docLinkHtml = 'Like what you see? Visit the ' +\n",
              "            '<a target=\"_blank\" href=https://colab.research.google.com/notebooks/data_table.ipynb>data table notebook</a>'\n",
              "            + ' to learn more about interactive tables.';\n",
              "          element.innerHTML = '';\n",
              "          dataTable['output_type'] = 'display_data';\n",
              "          await google.colab.output.renderOutput(dataTable, element);\n",
              "          const docLink = document.createElement('div');\n",
              "          docLink.innerHTML = docLinkHtml;\n",
              "          element.appendChild(docLink);\n",
              "        }\n",
              "      </script>\n",
              "    </div>\n",
              "  </div>\n",
              "  "
            ]
          },
          "metadata": {},
          "execution_count": 8
        }
      ]
    },
    {
      "cell_type": "code",
      "source": [
        "# retirando repetições dos tweets e preparando para fazer amostragem para classificação manual\n",
        "df_total.drop_duplicates(subset=['tweet'], inplace=True)\n",
        "tweet_para_amostra = df_total[['tweet', 'username', 'palavra_chave']]\n",
        "tweet_para_amostra"
      ],
      "metadata": {
        "id": "qgbBQsQO0LDv",
        "colab": {
          "base_uri": "https://localhost:8080/",
          "height": 424
        },
        "outputId": "f9f7c885-1b14-4514-c851-e8f2a1242787"
      },
      "execution_count": null,
      "outputs": [
        {
          "output_type": "execute_result",
          "data": {
            "text/plain": [
              "                                                  tweet    username  \\\n",
              "0     #CopadasCamisas   Qual a camisa mais bonita da...     geglobo   \n",
              "1     #CopadasCamisas   Qual a camisa mais bonita da...     geglobo   \n",
              "2     #CopadasCamisas   Qual a camisa mais bonita da...     geglobo   \n",
              "3     #CopadasCamisas   Qual a camisa mais bonita da...     geglobo   \n",
              "4     👋🚌  Ônibus da Alemanha 🇩🇪 a caminho do aeropor...     geglobo   \n",
              "...                                                 ...         ...   \n",
              "2583  Mexicanos respondem: Dani Alves mereceu ser co...  espnbrasil   \n",
              "2584  Jogador de Portugal na Copa do Mundo acompanha...  espnbrasil   \n",
              "2585  Inglaterra termina jogo vaiada pela própria to...  espnbrasil   \n",
              "2586  Neto corneta possível titularidade de Dani Alv...  espnbrasil   \n",
              "2588  Neymar pai desabafa sobre lesão do filho na Co...  espnbrasil   \n",
              "\n",
              "     palavra_chave  \n",
              "0            catar  \n",
              "1            catar  \n",
              "2            catar  \n",
              "3            catar  \n",
              "4            catar  \n",
              "...            ...  \n",
              "2583          copa  \n",
              "2584          copa  \n",
              "2585          copa  \n",
              "2586          copa  \n",
              "2588          copa  \n",
              "\n",
              "[2138 rows x 3 columns]"
            ],
            "text/html": [
              "\n",
              "  <div id=\"df-2d92375a-a801-4979-a3d3-73c675352e6a\">\n",
              "    <div class=\"colab-df-container\">\n",
              "      <div>\n",
              "<style scoped>\n",
              "    .dataframe tbody tr th:only-of-type {\n",
              "        vertical-align: middle;\n",
              "    }\n",
              "\n",
              "    .dataframe tbody tr th {\n",
              "        vertical-align: top;\n",
              "    }\n",
              "\n",
              "    .dataframe thead th {\n",
              "        text-align: right;\n",
              "    }\n",
              "</style>\n",
              "<table border=\"1\" class=\"dataframe\">\n",
              "  <thead>\n",
              "    <tr style=\"text-align: right;\">\n",
              "      <th></th>\n",
              "      <th>tweet</th>\n",
              "      <th>username</th>\n",
              "      <th>palavra_chave</th>\n",
              "    </tr>\n",
              "  </thead>\n",
              "  <tbody>\n",
              "    <tr>\n",
              "      <th>0</th>\n",
              "      <td>#CopadasCamisas   Qual a camisa mais bonita da...</td>\n",
              "      <td>geglobo</td>\n",
              "      <td>catar</td>\n",
              "    </tr>\n",
              "    <tr>\n",
              "      <th>1</th>\n",
              "      <td>#CopadasCamisas   Qual a camisa mais bonita da...</td>\n",
              "      <td>geglobo</td>\n",
              "      <td>catar</td>\n",
              "    </tr>\n",
              "    <tr>\n",
              "      <th>2</th>\n",
              "      <td>#CopadasCamisas   Qual a camisa mais bonita da...</td>\n",
              "      <td>geglobo</td>\n",
              "      <td>catar</td>\n",
              "    </tr>\n",
              "    <tr>\n",
              "      <th>3</th>\n",
              "      <td>#CopadasCamisas   Qual a camisa mais bonita da...</td>\n",
              "      <td>geglobo</td>\n",
              "      <td>catar</td>\n",
              "    </tr>\n",
              "    <tr>\n",
              "      <th>4</th>\n",
              "      <td>👋🚌  Ônibus da Alemanha 🇩🇪 a caminho do aeropor...</td>\n",
              "      <td>geglobo</td>\n",
              "      <td>catar</td>\n",
              "    </tr>\n",
              "    <tr>\n",
              "      <th>...</th>\n",
              "      <td>...</td>\n",
              "      <td>...</td>\n",
              "      <td>...</td>\n",
              "    </tr>\n",
              "    <tr>\n",
              "      <th>2583</th>\n",
              "      <td>Mexicanos respondem: Dani Alves mereceu ser co...</td>\n",
              "      <td>espnbrasil</td>\n",
              "      <td>copa</td>\n",
              "    </tr>\n",
              "    <tr>\n",
              "      <th>2584</th>\n",
              "      <td>Jogador de Portugal na Copa do Mundo acompanha...</td>\n",
              "      <td>espnbrasil</td>\n",
              "      <td>copa</td>\n",
              "    </tr>\n",
              "    <tr>\n",
              "      <th>2585</th>\n",
              "      <td>Inglaterra termina jogo vaiada pela própria to...</td>\n",
              "      <td>espnbrasil</td>\n",
              "      <td>copa</td>\n",
              "    </tr>\n",
              "    <tr>\n",
              "      <th>2586</th>\n",
              "      <td>Neto corneta possível titularidade de Dani Alv...</td>\n",
              "      <td>espnbrasil</td>\n",
              "      <td>copa</td>\n",
              "    </tr>\n",
              "    <tr>\n",
              "      <th>2588</th>\n",
              "      <td>Neymar pai desabafa sobre lesão do filho na Co...</td>\n",
              "      <td>espnbrasil</td>\n",
              "      <td>copa</td>\n",
              "    </tr>\n",
              "  </tbody>\n",
              "</table>\n",
              "<p>2138 rows × 3 columns</p>\n",
              "</div>\n",
              "      <button class=\"colab-df-convert\" onclick=\"convertToInteractive('df-2d92375a-a801-4979-a3d3-73c675352e6a')\"\n",
              "              title=\"Convert this dataframe to an interactive table.\"\n",
              "              style=\"display:none;\">\n",
              "        \n",
              "  <svg xmlns=\"http://www.w3.org/2000/svg\" height=\"24px\"viewBox=\"0 0 24 24\"\n",
              "       width=\"24px\">\n",
              "    <path d=\"M0 0h24v24H0V0z\" fill=\"none\"/>\n",
              "    <path d=\"M18.56 5.44l.94 2.06.94-2.06 2.06-.94-2.06-.94-.94-2.06-.94 2.06-2.06.94zm-11 1L8.5 8.5l.94-2.06 2.06-.94-2.06-.94L8.5 2.5l-.94 2.06-2.06.94zm10 10l.94 2.06.94-2.06 2.06-.94-2.06-.94-.94-2.06-.94 2.06-2.06.94z\"/><path d=\"M17.41 7.96l-1.37-1.37c-.4-.4-.92-.59-1.43-.59-.52 0-1.04.2-1.43.59L10.3 9.45l-7.72 7.72c-.78.78-.78 2.05 0 2.83L4 21.41c.39.39.9.59 1.41.59.51 0 1.02-.2 1.41-.59l7.78-7.78 2.81-2.81c.8-.78.8-2.07 0-2.86zM5.41 20L4 18.59l7.72-7.72 1.47 1.35L5.41 20z\"/>\n",
              "  </svg>\n",
              "      </button>\n",
              "      \n",
              "  <style>\n",
              "    .colab-df-container {\n",
              "      display:flex;\n",
              "      flex-wrap:wrap;\n",
              "      gap: 12px;\n",
              "    }\n",
              "\n",
              "    .colab-df-convert {\n",
              "      background-color: #E8F0FE;\n",
              "      border: none;\n",
              "      border-radius: 50%;\n",
              "      cursor: pointer;\n",
              "      display: none;\n",
              "      fill: #1967D2;\n",
              "      height: 32px;\n",
              "      padding: 0 0 0 0;\n",
              "      width: 32px;\n",
              "    }\n",
              "\n",
              "    .colab-df-convert:hover {\n",
              "      background-color: #E2EBFA;\n",
              "      box-shadow: 0px 1px 2px rgba(60, 64, 67, 0.3), 0px 1px 3px 1px rgba(60, 64, 67, 0.15);\n",
              "      fill: #174EA6;\n",
              "    }\n",
              "\n",
              "    [theme=dark] .colab-df-convert {\n",
              "      background-color: #3B4455;\n",
              "      fill: #D2E3FC;\n",
              "    }\n",
              "\n",
              "    [theme=dark] .colab-df-convert:hover {\n",
              "      background-color: #434B5C;\n",
              "      box-shadow: 0px 1px 3px 1px rgba(0, 0, 0, 0.15);\n",
              "      filter: drop-shadow(0px 1px 2px rgba(0, 0, 0, 0.3));\n",
              "      fill: #FFFFFF;\n",
              "    }\n",
              "  </style>\n",
              "\n",
              "      <script>\n",
              "        const buttonEl =\n",
              "          document.querySelector('#df-2d92375a-a801-4979-a3d3-73c675352e6a button.colab-df-convert');\n",
              "        buttonEl.style.display =\n",
              "          google.colab.kernel.accessAllowed ? 'block' : 'none';\n",
              "\n",
              "        async function convertToInteractive(key) {\n",
              "          const element = document.querySelector('#df-2d92375a-a801-4979-a3d3-73c675352e6a');\n",
              "          const dataTable =\n",
              "            await google.colab.kernel.invokeFunction('convertToInteractive',\n",
              "                                                     [key], {});\n",
              "          if (!dataTable) return;\n",
              "\n",
              "          const docLinkHtml = 'Like what you see? Visit the ' +\n",
              "            '<a target=\"_blank\" href=https://colab.research.google.com/notebooks/data_table.ipynb>data table notebook</a>'\n",
              "            + ' to learn more about interactive tables.';\n",
              "          element.innerHTML = '';\n",
              "          dataTable['output_type'] = 'display_data';\n",
              "          await google.colab.output.renderOutput(dataTable, element);\n",
              "          const docLink = document.createElement('div');\n",
              "          docLink.innerHTML = docLinkHtml;\n",
              "          element.appendChild(docLink);\n",
              "        }\n",
              "      </script>\n",
              "    </div>\n",
              "  </div>\n",
              "  "
            ]
          },
          "metadata": {},
          "execution_count": 7
        }
      ]
    },
    {
      "cell_type": "markdown",
      "source": [
        "## Criando uma amostra para o corpus de treino\n",
        "Realizando uma Amostragem Aleatória Simples"
      ],
      "metadata": {
        "id": "HLjjlPgY1btQ"
      }
    },
    {
      "cell_type": "code",
      "source": [
        "# realizando amostra\n",
        "amostra = tweet_para_amostra.sample(180)\n",
        "amostra['classificação'] = ''\n",
        "amostra.to_csv(\"corpus_treino.csv\")"
      ],
      "metadata": {
        "id": "PkXuEd902P1o"
      },
      "execution_count": null,
      "outputs": []
    },
    {
      "cell_type": "markdown",
      "source": [
        "# Etapa 3 - Treinando a máquina"
      ],
      "metadata": {
        "id": "SCDuJTtEHbW7"
      }
    },
    {
      "cell_type": "markdown",
      "source": [
        "## Tratamento do corpus de treino\n",
        "Tokenizando o corpus e retirando stopwords"
      ],
      "metadata": {
        "id": "NJacWtD4HnIZ"
      }
    },
    {
      "cell_type": "code",
      "source": [
        "# recebendo arquivos de treino\n",
        "neutro = '/content/drive/MyDrive/Insper/projeto_mineiracao/treino/treino_neutro.data'\n",
        "positivo = '/content/drive/MyDrive/Insper/projeto_mineiracao/treino/treino_positivo.data'\n",
        "negativo = '/content/drive/MyDrive/Insper/projeto_mineiracao/treino/treino_negativo.data'"
      ],
      "metadata": {
        "id": "kWmBqI5THueC"
      },
      "execution_count": null,
      "outputs": []
    },
    {
      "cell_type": "code",
      "source": [
        "# Função para fazer tokenização das frases\n",
        "def tokenizar(entrada):\n",
        "  lista_token = list()\n",
        "  for palavra in entrada:\n",
        "    token = word_tokenize(palavra)\n",
        "    lista_token.append(token)\n",
        "  return lista_token"
      ],
      "metadata": {
        "id": "gfaOOqOiI4N0"
      },
      "execution_count": null,
      "outputs": []
    },
    {
      "cell_type": "code",
      "source": [
        "# retirando os stopwords\n",
        "def tirar_stop(entrada):\n",
        "\n",
        "  # criando variáveis\n",
        "  lista_palavras = list()\n",
        "  final = list()\n",
        "\n",
        "  # listando as stopwords\n",
        "  stopwords = nltk.corpus.stopwords.words('portuguese')\n",
        "  outras_stop = ['!', ':', '#', 'https', ',', '?', '.', '-', '(', ')', '@', 't.co']\n",
        "  for stop in outras_stop:\n",
        "    stopwords.append(stop)\n",
        "\n",
        "  # retirando as stopwords\n",
        "  for palavra in entrada:\n",
        "    if palavra not in stopwords:\n",
        "      palavra.replace('.co','.')\n",
        "      palavra.replace('//t.co','.')\n",
        "      lista_palavras.append(palavra)\n",
        "  \n",
        "  # retirando parte dos links\n",
        "  for i in lista_palavras:\n",
        "    p = i.replace('.co','.')\n",
        "    p = i.replace('//t.co','.')\n",
        "    final.append(p)\n",
        "  \n",
        "  return final"
      ],
      "metadata": {
        "id": "5Pz47-_9KZjD"
      },
      "execution_count": null,
      "outputs": []
    },
    {
      "cell_type": "code",
      "source": [
        "# Criação de Bag of words\n",
        "def bag(entrada):\n",
        "  bag_of_words = dict()\n",
        "\n",
        "  # criando features\n",
        "  for p in entrada:\n",
        "    bag_of_words[p] = entrada.count(p)\n",
        "  return bag_of_words"
      ],
      "metadata": {
        "id": "Kw1jQ_WHiMBX"
      },
      "execution_count": null,
      "outputs": []
    },
    {
      "cell_type": "markdown",
      "source": [
        "## Treinando Algoritimo de Aprendizado de Máquina Supervisionado"
      ],
      "metadata": {
        "id": "mwVHvIEIfJA_"
      }
    },
    {
      "cell_type": "code",
      "source": [
        "# treinando a máquina\n",
        "def treinamento(positivo, negativo, neutro):\n",
        "\n",
        "  # criando listas\n",
        "  pos_dados = list()\n",
        "  neg_dados = list()\n",
        "  neu_dados = list()\n",
        "\n",
        "  # alocando os arquivos de treino\n",
        "  # positivo\n",
        "  with open(positivo, 'r') as arquivo:\n",
        "    linhas = arquivo.readlines()\n",
        "    for linha in linhas:\n",
        "      if len(linha) > 0:\n",
        "        pos_dados.append(linha.lower())\n",
        "  \n",
        "  # negativo\n",
        "  with open(negativo, 'r') as arquivo:\n",
        "    linhas = arquivo.readlines()\n",
        "    for linha in linhas:\n",
        "      if len(linha) > 0:\n",
        "        neg_dados.append(linha.lower()) \n",
        "\n",
        "  # neutro\n",
        "  with open(neutro, 'r') as arquivo:\n",
        "    linhas = arquivo.readlines()\n",
        "    for linha in linhas:\n",
        "      if len(linha) > 0:\n",
        "        neu_dados.append(linha.lower())\n",
        "\n",
        "  # tokenizando palavras, retirando stopwords e retirando as bags of words\n",
        "  posfeats = list()\n",
        "  for l in tokenizar(pos_dados):\n",
        "    sem_stop = tirar_stop(l)\n",
        "    posfeats.append((bag(sem_stop), 'pos'))\n",
        "  print(posfeats)\n",
        "\n",
        "  negfeats = list()\n",
        "  for l in tokenizar(neg_dados):\n",
        "    sem_stop = tirar_stop(l)\n",
        "    negfeats.append((bag(sem_stop), 'neg'))\n",
        "  print(negfeats)\n",
        "\n",
        "  neufeats = list()\n",
        "  for l in tokenizar(neu_dados):\n",
        "    sem_stop = tirar_stop(l)\n",
        "    neufeats.append((bag(sem_stop), 'neu'))\n",
        "  print(neufeats)\n",
        "\n",
        "  # criando string de treino\n",
        "  treino = posfeats + negfeats + neufeats\n",
        "\n",
        "  # Rodando os algoritmos para treina-los\n",
        "  classificadorME = MaxentClassifier.train(treino, 'GIS', trace=0, \n",
        "                                           encoding=None, labels=None, \n",
        "                                           gaussian_prior_sigma=0, max_iter = 1)\n",
        "  \n",
        "  #SVM\n",
        "  classificadorSVM = SklearnClassifier(LinearSVC(), sparse=False)\n",
        "  classificadorSVM.train(treino)\n",
        "\n",
        "  # Naive Bayes\n",
        "  classificadorNB = NaiveBayesClassifier.train(treino)\n",
        "\n",
        "  return ([classificadorME, classificadorSVM, classificadorNB])"
      ],
      "metadata": {
        "id": "QsEGQqTze8zy"
      },
      "execution_count": null,
      "outputs": []
    },
    {
      "cell_type": "code",
      "source": [
        "# Rodar algoritmo \n",
        "classificadores = treinamento(positivo, negativo, neutro)"
      ],
      "metadata": {
        "colab": {
          "base_uri": "https://localhost:8080/"
        },
        "id": "iaCnxpELlkm3",
        "outputId": "5571a07c-7796-48a1-bdf9-cdc11e3e78b4"
      },
      "execution_count": null,
      "outputs": [
        {
          "output_type": "stream",
          "name": "stdout",
          "text": [
            "[({'walter': 1, 'casagrande': 1, 'jr.': 1, 'após': 1, 'dois': 1, 'jogos': 1, 'espanha': 1, 'frança': 1, 'seleções': 1, 'favoritas': 1, 'copa': 1, './h2kif3oh6x': 1}, 'pos'), ({'emocionar': 1, 'partida': 1, 'mata-mata': 1, 'fase': 1, 'grupos': 1, 'senegal': 1, 'derrota': 1, 'equador': 1, 'segue': 1, 'vivo': 1, 'copa': 1, 'mundo': 1, 'lancecopa': 1, 'copadomundofifa': 1, 'qatar2022': 1, '📷manan': 1, 'vatsyayana': 1, '/': 4, 'afp': 4, '📷raul': 1, 'arboleda': 1, '📷ozan': 1, 'kose': 1, '📷jung': 1, 'yeon-je': 1, './cgim9k6kjg': 1}, 'pos'), ({'meia': 1, 'costa': 1, 'rica': 1, 'mantém': 1, 'esperança': 1, 'classificação': 1, 'oitavas': 1, 'copa': 1, './uf4zatzubp': 1}, 'pos'), ({'modelo': 1, 'croata': 1, 'faz': 1, 'sucesso': 1, 'visual': 1, 'copa': 1, 'qatar': 1, ';': 1, 'escolha': 1, 'melhor': 1, 'fifaworldcup': 1, 'qatar2022': 1, './vttz4vxkxm': 1}, 'pos'), ({'números': 1, '🏴\\U000e0067\\U000e0062\\U000e0065\\U000e006e\\U000e0067\\U000e007f⚽': 1, 'harry': 1, 'kane': 1, 'brilha': 1, 'copa': 1, 'mundo': 1, 'novidade': 1, 'nesta': 1, 'edição': 1, 'homem': 1, 'virou': 1, 'garçom': 1, '3': 2, 'assistências': 1, 'jogos': 1, 'fez': 1, 'diferença': 1, '🏆🌍': 1, 'harrykane': 1, 'inglaterra': 1, 'copadomundo': 1, 'lancecopa': 1, 'worldcup': 1, './teuzkawbjk': 1}, 'pos'), ({'jovem': 1, 'copa': 1, 'promessa': 1, 'alemanha': 1, 'coleciona': 1, 'recordes': 1, 'pode': 1, 'encostar': 1, 'pelé': 1, 'qatar': 1, ';': 1, 'veja': 1, 'espnnoqatar': 1, 'futebolnaespn': 1, './kgvolfdbfd': 1}, 'pos'), ({'richarlison': 1, \"'\": 2, 'cara': 1, 'vitória': 2, 'ontem': 1, 'confira': 1, 'comentário': 2, 'oliveirarafa': 1, 'sobre': 1, 'protagonistas': 1, 'seleção': 1, 'brasileira': 1, 'estreia': 1, 'copa': 1, 'mundo': 1, 'claro': 1, 'deixe': 1, 'aqui': 1, 'concorda': 1, 'rafa': 1, 'uolnacopa2022': 1, './rqkajb0cdd': 1}, 'pos'), ({'kramaric': 1, 'dá': 1, 'show': 1, 'virada': 1, 'croácia': 1, 'diante': 1, 'canadá': 1, 'copa': 1, 'mundo': 1, 'espnnoqatar': 1, 'futebolnaespn': 1, 'espnnostarplus': 1, './jsgkzdkpox': 1}, 'pos'), ({'thiago': 1, 'silva': 1, 'zagueiro': 1, '38': 1, 'anos': 1, 'tornou': 1, 'jogador': 1, 'velho': 1, 'entrar': 1, 'campo': 1, 'seleção': 1, 'brasileira': 1, 'partidas': 1, 'copa': 1, 'mundo': 1, '🇧🇷': 1, 'x': 1, '🇷🇸': 1, 'genacopa': 1, './fqs6fttkxq': 1}, 'pos'), ({'costa': 2, 'rica': 2, '2014': 2, 'braba': 1, 'demais': 1, '👏👏👏🇨🇷⚽️🏆': 1, 'copa': 1, 'mundo': 1, 'relembre': 1, 'campanha': 1, 'veja': 2, 'jogadores': 1, 'remanescentes': 1, '📲': 1, './ynoeczw2tt': 1, './z13rmksjas': 1}, 'pos'), ({'vini': 1, 'jr': 1, 'homenageia': 1, 'neymar': 1, 'comemoração': 1, 'gol': 1, 'anulado': 1, 'copa': 1, 'fifaworldcup': 1, 'qatar2022': 1, './b3eq49qbcu': 1}, 'pos'), ({'defesa': 1, 'segura': 1, '⚽👀🏆': 1, 'além': 1, 'brasil': 2, 'apenas': 1, 'polônia': 1, 'uruguai': 1, 'ainda': 1, 'sofreram': 1, 'gols': 1, 'gostaria': 1, 'assistir': 1, 'copa': 1, 'camarote': 1, 'alisson': 2, '🤔🇧🇷': 1, 'zagueiros': 1, 'copadomundo': 1, 'mostratuaforça': 1, './cufomzeahj': 1}, 'pos'), ({'torcedor': 1, 'irã': 1, 'todo': 1, 'emocionado': 1, '\\U0001f979\\U0001f979\\U0001f979': 1, 'copa': 1, 'mundo': 1, 'linda': 1, 'uolnacopa2022': 1, './icrgyskszu': 1}, 'pos'), ({'fiiiiiiiiiim': 1, 'jogo': 2, 'morno': 1, 'costa': 1, 'rica': 1, 'surpreende': 1, 'japão': 1, 'vence': 1, '1': 1, '0.': 1, 'primeira': 1, 'finalização': 1, 'copa': 1, 'resultou': 1, 'gol': 1, 'grupo': 1, 'agora': 1, 'tá': 1, 'emboladíssimo': 1, '⚽️🏆': 1, 'lancecopa': 1, 'copadomundofifa': 1, 'qatar2022': 1, 'mostratuaforça': 1, './qzrpveaysf': 1}, 'pos'), ({'torcida': 1, 'senegal': 1, '🇸🇳': 1, 'presta': 1, 'homenagem': 1, 'bouba': 1, 'diop': 1, 'ex-camisa': 1, '19': 1, 'ídolo': 1, 'seleção': 1, 'senegalesa': 1, 'outros': 1, 'marcou': 1, 'gol': 1, 'histórica': 1, 'vitória': 1, 'sobre': 1, 'frança': 1, '🇫🇷': 1, 'copa': 1, '2002': 1, 'morreu': 1, 'nesta': 1, 'data': 1, '2020': 1, 'genacopa': 1, './9w7oddpf2l': 1}, 'pos'), ({'“': 1, 'oriente': 1, 'médio': 1, 'bloco': 1, 'catar': 1, 'semelhante': 1, 'outros': 1, 'destoa': 1, 'tratamento': 1, 'turistas': 1, 'vi': 1, 'mulheres': 1, 'rua': 1, 'roupas': 1, 'curtas': 1, 'decotadas': 1, 'proibidas': 1, 'arábia': 1, 'saudita': 1, 'exemplo': 1, 'outras': 1, 'vestido': 1, 'festas': 1, 'hotéis': 1, 'onde': 1, 'bebida': 1, 'alcoólica': 1, 'liberada': 1, '🧵': 1, './sjmvn9vqp2': 1}, 'pos'), ({'empolgação': 1, 'méxico': 1, 'sobrou': 1, 'pra': 1, 'ngedra': 1, '😂😂': 1, 'mexicanos': 1, \"'tomam\": 1, 'conta': 1, \"'\": 3, 'entrada': 1, 'natalie': 1, 'gedra': 1, 'zoam': 1, 'messi': 1, 'perto': 1, 'vai': 1, 'chegar': 1, 'copa': 1, 'scplus': 1, 'espnnoqatar': 1, 'futebolnaespn': 1, './tqd7ocsgij': 1}, 'pos'), ({'passe': 1, '🏀🤝⚽️': 1, \"'lebron\": 1, 'james': 1, 'futebol': 1, \"'\": 2, 'web': 1, 'brinca': 1, \"'apelido\": 1, 'pulisic': 1, 'após': 1, 'assistência': 1, 'copa': 1, './5noidcb1lg': 1, '📸': 1, 'neil': 1, 'hall/efe/epa': 1, './twbmvt8kcv': 1}, 'pos'), ({'reserva': 1, 'espanha': 1, 'morata': 1, 'chega': 1, 'vice-artilharia': 1, 'copa': 1, 'mundo': 1, 'qatar': 1, \"'sou\": 1, 'soldado': 1, 'luis': 1, 'enrique': 1, \"'\": 1, 'espnnoqatar': 1, 'futebolnaespn': 1, 'espnnostarplus': 1, './odmai7h8lj': 1}, 'pos'), ({'fim': 1, 'primeiro': 1, 'tempo': 2, '🇺🇸1⃣x0⃣🇮🇷': 1, 'gol': 1, 'pulisic': 1, 'estados': 1, 'unidos': 1, 'vai': 2, 'vencendo': 1, 'garantindo': 1, 'vaga': 1, 'oitavas': 1, 'copa': 1, 'mundo': 1, 'enquanto': 1, 'encarando': 1, 'holanda': 1, 'próxima': 1, 'fase': 1, 'segundo': 1, 'inteiro': 1, 'frente': 1, 'uolnacopa2022': 1, './j6tcbnvz2a': 1}, 'pos'), ({'gol': 1, 'assistência': 1, 'messi': 1, 'eleito': 1, 'melhor': 1, 'partida': 1, 'vitória': 1, 'copa': 1, 'fifaworldcup': 1, 'qatar2022': 1, './ro0gh1nnju': 1}, 'pos'), ({'joga': 1, 'entretenimento': 1, 'peitos': 1, 'pai': 1, '⚽😂': 1, 'diogo': 1, 'defante': 1, 'atração': 1, 'parte': 1, 'copa': 1, 'mundo': 1, '📲': 1, 'confira': 1, './pvmrwqicg5': 1, './bvyphg5nga': 1}, 'pos'), ({'``': 1, 'números': 1, 'permitem': 1, 'torcida': 1, 'brasileira': 1, 'possa': 1, 'almejar': 1, 'desempenho': 1, 'honroso': 1, 'catar': 1, \"''\": 1, 'opinião|': 1, 'campanha': 1, 'seleção': 1, 'tite': 1, 'eliminatórias': 1, 'permite': 1, 'sonhar': 1, 'grande': 1, 'leia': 1, 'blog': 1, 'simon': 1, 'futebolnaespn': 1, './pu0i7l0it3': 1, './8cjmrvhkqa': 1}, 'pos'), ({'wilton': 1, 'sampaio': 1, 'segue': 1, 'firme': 1, 'copa': 1, 'prova': 1, 'merece': 1, 'oportunidades': 1, 'leia': 1, 'blog': 1, 'simonapito': 1, 'futebolnaespn': 1, 'espnnoqatar': 1, './psaloumo9o': 1}, 'pos'), ({'pelé': 1, 'recebe': 1, 'homenagem': 1, 'gigante': 1, 'prédio': 1, 'qatar': 1, \"'que\": 1, 'melhore': 1, 'logo': 1, \"'\": 1, 'futebolnaespn': 1, 'espnnoqatar': 1, './zpo7iinabb': 1}, 'pos'), ({'🇵🇹✅': 1, 'dois': 1, 'jogos': 1, 'duas': 1, 'vitórias': 1, 'portugal': 1, 'vai': 1, 'adiante': 1, 'copa': 1, 'mundo': 1, 'espnnoqatar': 1, './qtooal8x7r': 1}, 'pos'), ({'diogo': 1, 'costa': 1, 'supera': 1, 'susto': 1, 'estreia': 1, 'evidencia': 1, 'união': 1, 'vestiário': 1, 'portugal': 1, 'copa': 1, './m7tcknsscv': 1}, 'pos'), ({'``': 1, 'três': 1, 'figuras': 1, \"''\": 1, 'enviado': 1, 'especial': 1, 'copa': 1, 'diego': 1, 'floriano': 1, 'resenha': 1, 'sensacional': 1, 'qatar': 1, 'confere': 1, 'vídeo': 1, 'tá': 1, 'bom': 1, 'demais': 1, './inu4q9vbrl': 1}, 'pos'), ({'gato': 1, 'cachorro': 1, 'tapioca': 1, 'mascote': 1, 'copa': 1, 'ganha': 1, 'versões': 1, 'fofas': 1, ';': 1, 'veja': 1, 'fifaworldcup': 1, 'qatar2022': 1, './c4yycutmhn': 1}, 'pos'), ({'2ª': 1, 'copa': 1, 'mbappé': 1, 'média': 1, 'parecida': 1, 'ronaldo': 1, 'mira': 1, 'recorde': 1, 'klose': 1, 'fifaworldcup': 1, 'qatar2022': 1, './jz3v2yfw3x': 1}, 'pos'), ({'goooooooooooooooooool': 1, 'qatar': 2, 'muntari': 1, 'diminui': 1, '1': 1, 'x': 1, '2': 1, 'senegal': 1, 'espnnoqatar': 1, './iwe59w1z6k': 1}, 'pos'), ({'bruno': 1, 'fernandes': 1, '😎🇵🇹': 1, 'homem': 1, '2': 3, 'assistências': 1, 'gols': 1, 'jogos': 1, 'copa': 1, 'tá': 1, 'bom': 1, 'quer': 1, 'uolnacopa2022': 1, './atizrk75cs': 1}, 'pos'), ({'⚽️🏆': 1, '|': 1, 'redes': 1, 'sociais': 1, 'neymar': 1, 'rasgou': 1, 'elogios': 1, 'volante': 1, 'seleção': 1, 'brasileira': 1, '...': 1, 'aí': 1, 'concorda': 1, '🗣🗣🗣': 1, 'baita': 1, 'copa': 1, 'camisa': 1, '5': 1, 'aqui': 1, '💪💪💪': 1, 'lancecopa': 1, 'copadomundofifa': 1, 'qatar2022': 1, 'bra': 1, './otoefepbns': 1}, 'pos'), ({'marcel': 1, 'rizzo': 1, '2022': 1, '2014': 1, 'brasil': 1, 'vai': 1, 'sobreviver': 1, 'neymar': 1, 'copa': 1, 'qatar': 1, './7prce5jfhq': 1}, 'pos'), ({'guardiola': 1, 'despista': 1, 'sobre': 1, 'seleção': 1, 'brasileira': 1, 'após': 1, 'copa': 1, 'catar': 1, \"'brasil\": 1, 'técnicos': 1, 'brasileiros': 1, 'bons': 1, \"'\": 1, './h6mepxpwda': 1, './dsai9yrlh1': 1}, 'pos'), ({'dani': 1, 'olmo': 1, 'espanha': 1, 'fala': 1, 'sobre': 1, 'possível': 1, 'duelo': 1, 'brasil': 1, 'copa': 1, '``': 1, 'vencer': 1, 'melhores': 1, 'times': 1, 'mundo': 1, 'aconteça': 1, 'acontecer': 1, 'vamos': 1, 'enfrentar': 1, 'sempre': 1, 'fizemos': 1, 'mesma': 2, 'mentalidade': 1, 'ideia': 1, \"''\": 1, 'genacopa': 1, './aqdaw0hbbj': 1}, 'pos'), ({'fenômeno': 2, 'conheça': 1, 'diogo': 1, 'defante': 1, 'copa': 1, 'mundo': 1, 'confira': 1, './rozau9brlw': 1, './hgtmde2tbd': 1}, 'pos'), ({'argentina': 1, 'vence': 1, 'méxico': 1, '‘': 2, 'jogo': 1, 'vida': 1, '’': 2, 'copa': 1, 'show': 1, 'messi': 1, '“': 1, 'hermanos': 1, '”': 1, 'vão': 1, 'jogar': 1, 'soltos': 1, 'partir': 1, 'agora': 1, 'assista': 1, 'f360': 1, 'vivo': 1, 'espnnostarplus': 1, 'saiba': 1, './sctcnuckzc': 1, 'f360br': 1, './dfr5obqyr4': 1}, 'pos'), ({'fim': 1, 'jogo': 1, 'austrália': 1, 'vence': 1, 'dinamarca': 1, '1x0': 1, 'classifica': 1, 'oitavas': 1, 'final': 1, 'copa': 1, 'mundo': 1, 'aus': 2, '🇦🇺': 1, '1': 1, 'x': 1, '0': 1, '🇩🇰': 1, 'din': 2, 'worldcup': 1, 'lancecopa': 1, 'copadomundo': 1, './yfj8yc0amg': 1}, 'pos'), ({'domino': 1, \"'s\": 1, 'solidariza': 1, 'gilberto': 1, 'gil': 1, 'após': 1, 'ataques': 1, 'franqueado': 1, 'qatar': 1, 'fifaworldcup': 1, 'qatar2022': 1, './6wixhjkcp8': 1}, 'pos'), ({'influencer': 1, 'casimiro': 1, 'renovou': 1, 'recorde': 1, 'views': 1, 'transmissão': 1, 'vivo': 1, 'youtube': 1, 'brasil': 2, 'jogo': 1, 'copa': 1, 'mundo': 1, 'suíça': 1, 'nesta': 1, 'segunda': 1, 'número': 1, 'usuários': 1, 'reproduzindo': 1, 'live': 1, 'chegou': 1, '4,35': 1, 'milhões': 2, 'ainda': 1, '1°': 1, 'tempo': 1, '2°': 1, 'audiência': 1, '4,86': 1, './4upgjaqcsx': 1}, 'pos'), ({'tecnologia': 1, 'impedimento': 1, 'utilizada': 1, '1ª': 1, 'vez': 1, 'copa': 1, 'mundo': 1, 'anulou': 1, 'gol': 1, 'qatar': 1, 'x': 1, 'equador': 1, 'futebolnaespn': 1, 'espnnoqatar': 1, './dxdn3vbzb4': 1}, 'pos'), ({'dois': 1, 'anos': 1, 'maradona': 1, 'dez': 1, 'fotos': 1, 'provam': 1, 'ídolo': 1, 'argentino': 1, 'presente': 1, 'catar': 1, 'gênio': 1, 'sobrevive': 1, 'tatuagens': 1, 'faixas': 1, 'bandeiras': 1, 'homenagens': 1, './cwkx2eqf1q': 1}, 'pos'), ({'craques': 1, 'sobrevivem': 1, 'copa': 1, 'messi': 1, 'cr7': 1, 'mbappé': 1, 'neymar': 1, 'lewa': 1, 'oitavas': 1, 'fifaworldcup': 1, 'qatar2022': 1, './dwtbuempds': 1}, 'pos'), ({'milton': 1, 'neves': 1, 'coreia': 1, 'sul': 1, '2': 1, 'x': 1, '3': 1, 'gana': 1, 'copa': 1, 'enfim': 1, 'pegou': 1, 'breu': 1, './mdsx8anx4f': 1}, 'pos'), ({'guillermo': 1, 'varela': 1, 'flamengo': 1, 'entra': 1, 'campo': 1, 'uruguai': 1, '🇺🇾': 1, 'primeiro': 1, 'jogador': 1, 'joga': 1, 'campeonato': 1, 'brasileiro': 1, '🇧🇷': 1, 'atuar': 1, 'copa': 1, 'mundo': 1, 'catar': 1, 'genacopa': 1, './abb99avts7': 1}, 'pos'), ({'jogador': 1, 'peso': 1, '🔥⚽': 1, '2ª': 1, 'rodada': 1, 'copa': 2, 'alguns': 1, 'jogadores': 1, 'destacaram': 1, 'acha': 1, 'craque': 1, 'aqui': 1, '🧐': 1, 'uolnacopa2022': 1, './ufebzzfmt8': 1}, 'pos'), ({'perfil': 1, 'espn': 1, 'poliglota': 1, 'maestro': 1, 'craque': 1, 'bruyne': 1, 'tudo': 1, 'brilhar': 1, 'bélgica': 1, 'qatar': 1, 'espnnoqatar': 1, 'futebolnaespn': 1, './qt7d001nwm': 1}, 'pos'), ({'tenista': 1, 'profissional': 1, \"'vovô\": 1, 'copas': 1, \"'\": 1, 'argentinos': 1, 'fazem': 1, 'festa': 1, 'provocam': 1, 'brasil': 1, 'qatar': 1, 'antes': 1, 'estreia': 1, 'futebolnaespn': 1, 'espnnoqatar': 1, './qqv33ukavm': 1}, 'pos'), ({'💪': 1, 'nova': 1, 'geração': 2, 'jude': 1, 'bellingham': 1, 'bukayo': 1, 'saka': 1, 'pedri': 1, 'gavi': 1, '...': 1, 'nascida': 1, 'século': 1, '21': 1, 'chegou': 1, 'qatar': 1, 'pra': 1, 'mostrar': 1, 'futebol': 1, 'sairá': 1, 'mundial': 1, 'novos': 1, 'ídolos': 1, './afcnt0lknh': 1}, 'pos'), ({'vini': 1, 'jr': 1, 'fala': 1, 'sobre': 1, 'sonho': 1, 'estrear': 1, 'copa': 1, 'elogia': 1, 'paquetá': 1, \"'na\": 1, 'volância': 1, \"'\": 1, 'fifaworldcup': 1, 'qatar2022': 1, './pwjmbeomss': 1}, 'pos'), ({'estreia': 1, 'copa': 1, 'deu': 1, '⚽️⚽️': 1, 'agora': 1, 'faltam': 1, 'seis': 1, 'jogos': 1, 'hexa': 1, '😜🇧🇷': 1, 'genacopa': 1, './phtssuzui7': 1}, 'pos'), ({'copa': 1, 'mundo': 1, 'especial': 1, 'óculos': 1, 'high-tech': 1, 'suíça': 1, 'fifaworldcup': 1, 'qatar2022': 1, './4nrrpu7llz': 1}, 'pos'), ({'copa': 1, 'mundo': 1, 'cada': 1, 'quatro': 1, 'uruguaios': 1, 'acredita': 1, 'uruguai': 1, 'campeão': 1, './fimhpeyxko': 1}, 'pos'), ({'messi': 1, 'supera': 1, 'maradona': 1, 'bate': 1, 'recorde': 1, 'argentina': 1, 'copa': 1, 'mundo': 1, 'futebolnaespn': 1, 'espnnoqatar': 1, './sjoxttyire': 1}, 'pos'), ({'histórico': 1, 'stephanie': 1, 'frappart': 1, 'tornou': 1, 'primeira': 1, 'mulher': 1, 'apitar': 1, 'partida': 1, 'copa': 1, 'mundo': 1, 'masculina': 1, 'alemanha': 1, 'x': 1, 'costa': 1, 'rica': 1, 'via': 1, 'espnfc': 1, 'espnnoqatar': 1, './88jdjf2e3t': 1}, 'pos'), ({'vem': 1, 'tranquilo': 1, '⚽️🏆🇧🇷⚔️🇷🇸': 1, 'técnico': 1, 'sérvia': 1, 'exalta': 1, '``': 1, 'geração': 1, 'dourada': 1, \"''\": 1, 'brasil': 1, 'confia': 1, 'vitória': 1, 'estreia': 1, 'copa': 1, './baqmzknkdd': 1}, 'pos'), ({'espetacular': 1, 'catar': 1, 'inaugura': 1, 'estádio': 1, 'contêineres': 1, 'transporte': 1, 'reciclados': 1, 'copa': 1, 'mundo': 1, ';': 1, 'veja': 1, 'detalhes': 1, 'futebolnaespn': 1, './jwsetadq0s': 1}, 'pos'), ({'fifa': 1, 'faz': 1, 'homenagem': 1, 'maradona': 1, 'qatar': 1, 'reúne': 1, 'campeões': 1, 'argentina': 1, 'emociona': 1, \"'muito\": 1, 'poucos': 1, 'fizeram': 1, 'fez': 1, \"'\": 1, 'futebolnaespn': 1, 'espnnoqatar': 1, './wrs5hcvhin': 1}, 'pos'), ({'bobeada': 1, 'goleiro': 1, \"'tapa\": 1, 'debochado': 1, \"'\": 1, 'canadá': 1, 'x': 1, 'marrocos': 1, 'gols': 1, 'bizarros': 1, 'copa': 1, 'mundo': 1, 'aqui': 1, ';': 1, 'veja': 1, 'futebolnaespn': 1, 'espnnoqatar': 1, './mklujea4h3': 1}, 'pos')]\n",
            "[({'🇶🇦': 1, 'eliminado': 1, 'qatar': 1, 'vai': 1, 'jogo': 1, 'tentando': 1, 'encerrar': 1, 'participação': 1, 'copa': 1, 'menos': 1, 'vitória': 1, 'somando': 1, 'duas': 1, 'derrotas': 1, 'aqui': 1, 'anfitriã': 1, 'eliminada': 1, 'competição': 1, 'uolnacopa2022': 1}, 'neg'), ({'neymar': 1, 'vira': 1, 'jogador': 1, 'sofreu': 1, 'faltas': 1, '1ª': 1, 'rodada': 1, 'copa': 1, ';': 1, 'veja': 1, 'lista': 1, 'fifaworldcup': 1, 'qatar2022': 1, './n0hkorajed': 1}, 'neg'), ({'futebol': 1, 'mundo': 1, '166': 1, 'dia': 1, '6': 1, 'neymar': 1, 'danilo': 1, 'inglaterra': 1, 'encaminha': 1, 'classificação': 1, 'qatar': 1, 'eliminado': 1, 'alex_tseng': 1, 'gustavohofman': 1, 'gianoddi': 1, '👉': 1, './wxvjjgskpz': 1, 'espnnoqatar': 1, './c8yqjimxof': 1}, 'neg'), ({'rua': 1, 'copa': 1, \"'\": 1, 'rj': 1, 'sofre': 1, 'disputas': 1, 'jogos': 1, 'após': 1, 'quase': 1, '50': 1, 'anos': 1, 'fifaworldcup': 1, 'qatar2022': 1, './vh4hqfr0e2': 1}, 'neg'), ({'pedro': 1, 'ivo': 1, 'aponta': 1, 'fator': 1, \"'preocupa\": 1, \"'\": 2, 'relação': 1, 'bastidores': 1, 'seleção': 1, 'brasileira': 1, 'qatar': 1, \"'assusta\": 1, 'futebolnaespn': 1, 'espnnoqatar': 1, 'espnnostarplus': 1, './45c4ejnzre': 1}, 'neg'), ({'torcedor': 1, 'invadiu': 1, 'campo': 1, 'durante': 1, 'portugal': 1, 'x': 1, 'uruguai': 1, 'visto': 1, 'cancelado': 1, 'banido': 1, 'jogos': 1, 'restantes': 1, 'copa': 1, './khwqwnoinc': 1, 'futebolnaespn': 1, 'espnnoqatar': 1, 'espnnostarplus': 1}, 'neg'), ({'problemas': 1, 'inglaterra': 2, '🏴\\U000e0067\\U000e0062\\U000e0065\\U000e006e\\U000e0067\\U000e007f': 1, 'kane': 1, 'passará': 1, 'exames': 1, 'imagem': 1, 'tornozelo': 1, 'direito': 1, 'após': 1, 'susto': 1, 'estreia': 1, 'qatar': 1, './qhey3x02er': 1, 'futebolnaespn': 1, 'espnnoqatar': 1}, 'neg'), ({'demétrio': 1, 'vecchioli': 1, 'países': 1, 'copa': 1, 'fracasso': 1, 'olimpíadas': 1, 'vice-versa': 1, './xhteiv2i1z': 1}, 'neg'), ({'neymar': 1, 'copa': 1, '🤔🇧🇷': 1, 'entenda': 1, 'lesão': 1, 'tornozelo': 1, 'tempo': 1, 'médio': 1, 'recuperação': 1, 'veja': 1, './t0i7o6wgaf': 1, './kjif8tl5f7': 1}, 'neg'), ({'lateral': 1, 'saudita': 1, 'faz': 1, 'segunda': 1, 'cirurgia': 1, 'após': 1, 'choque': 1, 'assustador': 1, 'copa': 1, 'fifaworldcup': 1, 'qatar2022': 1, './ltfv8upsjy': 1}, 'neg'), ({'marcel': 1, 'rizzo': 1, 'copa': 1, 'campanha': 1, 'qatar': 1, 'mostra': 1, 'dinheiro': 1, 'faz': 1, 'estádio': 1, 'bom': 1, 'time': 1, './u84xuxednp': 1}, 'neg'), ({'mauro': 1, 'cezar': 1, 'pereira': 1, 'doha': 1, 'catar': 1, 'tite': 1, 'turma': 1, 'mudaram': 1, 'nada': 1, \"'rec\": 1, '5': 1, \"'\": 1, 'nova': 1, 'verborragia': 1, 'plena': 1, 'copa': 1, './yuo72sn1pn': 1}, 'neg'), ({'fifa': 1, 'abre': 1, 'processo': 1, 'disciplinar': 1, 'contra': 1, 'alemanha': 1, 'fato': 1, 'inusitado': 1, 'ocorrido': 1, 'durante': 1, 'coletiva': 1, 'imprensa': 1, 'copa': 1, 'deve': 1, 'aplicar': 1, 'multa': 1, 'futebolnaespn': 1, 'espnnoqatar': 1, 'espnnostarplus': 1, './e9f4mahuw4': 1}, 'neg'), ({'lesão': 1, 'tornozelo': 1, 'deve': 1, 'tirar': 1, 'danilo': 1, 'primeira': 1, 'fase': 1, 'copa': 1, 'mundo': 1, 'fifaworldcup': 1, 'qatar2022': 1, './jwc0xqec9n': 1}, 'neg'), ({'mauro': 1, 'cezar': 1, 'pereira': 1, 'doha': 1, 'catar': 1, 'copa': 1, 'começa': 1, 'anfitrião': 1, 'fraco': 1, 'estádio': 1, \"'elástico\": 1, \"'\": 1, 'torcida': 1, 'sai': 1, 'cedo': 1, './eyjazya48b': 1}, 'neg'), ({'cortou': 1, '📱💻🚫🏁🏍': 1, 'miller': 1, 'afasta': 1, 'redes': 1, 'sociais': 1, 'saúde': 1, 'mental': 1, 'após': 1, 'decepção': 1, 'catar': 1, 'lancenet': 1, './h290vx8mk4': 1, './ztjhngfcsa': 1}, 'neg'), ({'copa': 1, 'qatar': 1, 'protesto': 1, 'político': 1, 'liberado': 1, 'repressão': 1, 'lgbtqia': 1, 'fifaworldcup': 1, 'qatar2022': 1, './fwpmb7zlmf': 1}, 'neg'), ({'xodó': 1, 'guardiola': 1, 'city': 1, 'ignora': 1, 'brasil': 1, 'diz': 1, 'ninguém': 1, 'joga': 1, 'espanha': 1, 'copa': 1, 'cita': 1, 'único': 1, 'rival': 1, 'aproxima': 1, 'espnnoqatar': 1, './lgrt3zq4e5': 1}, 'neg'), ({'goleiro': 1, 'camarões': 1, 'pronuncia': 1, 'após': 1, 'corte': 1, 'copa': 1, 'mundo': 1, \"'difícil\": 1, 'assimilar': 1, \"'\": 1, '📲': 1, './eojswyo4xg': 1, '📷efe': 1, '/': 2, 'epa': 1, 'abir': 1, 'sultan': 1, './auroep5b1v': 1}, 'neg'), ({'lesões': 1, 'tornozelo': 1, 'unem': 1, 'neymar': 1, 'messi': 1, 'mbappé': 1, 'copa': 1, 'mundo': 1, 'fifaworldcup': 1, 'qatar2022': 1, './6alw4rss8f': 1}, 'neg'), ({'fifa': 1, 'abre': 1, 'expediente': 1, 'disciplinar': 1, 'contra': 1, 'equador': 1, 'cânticos': 1, 'ofensivos': 1, 'torcedores': 1, 'abertura': 1, 'copa': 1, '📲': 1, './zikarl4s5u': 1, '📷kirill': 1, 'kudryavtsev': 1, '/': 1, 'afp': 1, './v4dxs4tpes': 1}, 'neg'), ({'tão': 1, 'perigosos': 1, 'maldição': 1, 'assombra': 1, 'alemanha': 1, 'após': 1, 'título': 1, 'copa': 1, 'mundo': 1, 'brasil': 1, 'pode': 1, 'atrapalhar': 1, \"'final\": 1, \"'\": 1, 'qatar': 1, 'futebolnaespn': 1, 'espnnoqatar': 1, './isgmltnkkg': 1}, 'neg'), ({'qatar': 1, 'prepara': 1, '12': 1, 'anos': 1, 'cai': 1, '6': 1, 'dias': 1, 'pior': 1, 'anfitrião': 1, 'história': 1, 'fifaworldcup': 1, 'qatar2022': 1, './rj8lglvyty': 1}, 'neg'), ({'fim': 1, 'jogo': 1, 'possivelmente': 1, 'piores': 1, 'jogos': 1, 'copa': 1, 'então': 1, 'todo': 1, 'respeito': 1, '🇺🇾': 1, 'uru': 1, '0x0': 1, 'kor': 1, '🇰🇷': 1, '|': 1, '2t': 1, 'worldcupqatar2022': 1, 'qatar2022': 1, 'lancecopa': 1}, 'neg'), ({'copa': 1, 'gols': 1, 'anulados': 1, 'surreal': 1, '📷ina': 1, 'fassbender': 1, '/': 1, 'afp': 1, './n21fsqkzfs': 1}, 'neg'), ({'vish': 1, '...': 1, 'coisa': 1, 'ficou': 1, 'qatar': 1, '📽': 1, 'realfutebolnews': 1, 'copadomundo': 1, 'lancecopa': 1, './j2ugzqztqk': 1}, 'neg'), ({'lewandowski': 2, 'ainda': 1, 'continua': 1, 'saga': 1, 'marcar': 1, 'primeiro': 1, 'golzinho': 1, 'copa': 1, 'mundo': 1, 'dessa': 1, 'vez': 1, 'enquanto': 1, '🇵🇱': 1, 'polonia': 1, 'mexico': 1, 'copadomundo': 1, './tccolire7f': 1}, 'neg'), ({'muller': 1, 'desabafa': 1, 'após': 1, 'eliminação': 1, 'alemanha': 1, 'copa': 1, \"'desastre\": 1, 'absoluto': 1, \"'\": 1, 'fifaworldcup': 1, 'qatar2022': 1, './wdipgr5z7g': 1}, 'neg'), ({'fase': 1, 'grupos': 1, 'copa': 1, 'problema': 1, 'tornozelo': 1, 'direito': 1, 'neymar': 1, 'sofria': 1, 'lesão': 1, 'séria': 1, 'desde': 1, 'novembro': 1, '2021.': 1, 'atual': 1, 'temporada': 1, 'camisa': 1, '10': 1, 'brasil': 1, 'participou': 1, '20': 1, '22': 1, 'jogos': 1, 'psg': 1, 'desfalque': 1, 'precisou': 1, 'cumprir': 1, 'suspensão': 1, 'automática': 1, 'genacopa': 1, './amravuoh2u': 1}, 'neg'), ({'fifa': 1, 'proíbe': 1, 'bélgica': 1, 'usar': 1, 'palavra': 1, '``': 1, 'love': 1, \"''\": 1, 'segundo': 1, 'uniforme': 1, 'copa': 1, 'camisa': 1, 'branca': 1, 'passar': 1, 'modificações': 1, 'poder': 1, 'usada': 1, 'catar': 1, 'genacopa': 1, './88jswz8soh': 1}, 'neg'), ({'zagueiro': 1, 'ben': 2, 'white': 2, 'inglaterra': 1, 'deixou': 2, 'concentração': 1, 'equipe': 1, 'atuará': 1, 'copa': 1, 'informação': 1, 'confirmada': 1, 'assessoria': 1, 'imprensa': 1, 'seleção': 1, 'inglesa': 1, '``': 1, 'centro': 1, 'treinamentos': 1, 'retornou': 1, 'casa': 1, 'razões': 1, 'pessoais': 1, \"''\": 1, 'genacopa': 1, './trquoc18ro': 1}, 'neg'), ({'blog': 1, 'paulo': 1, 'cobos': 1, 'desde': 1, '16': 1, 'vinícius': 1, 'jr': 1, 'suportou': 1, 'críticas': 1, 'injustas': 1, 'várias': 1, 'ironias': 1, 'canalhas': 1, 'apanhou': 1, 'sofreu': 1, 'ofensas': 1, 'racistas': 1, 'respondeu': 1, 'jogando': 1, 'bola': 1, 'profissionalismo': 1, 'cariocão': 1, 'copa': 1, 'mundo': 1, 'espnnoqatar': 1, './t8pwvieoa6': 1, './rijrbyhwgw': 1}, 'neg'), ({'país': 1, 'gales': 1, 'acolhe': 1, 'veto': 1, 'fifa': 1, 'usa': 1, 'apenas': 1, 'braçadeira': 1, 'oficial': 1, 'estreia': 1, 'copa': 1, 'equipe': 1, 'comandada': 1, 'gareth': 1, 'bale': 1, 'repete': 1, 'protesto': 1, 'ingleses': 1, 'fizeram': 1, 'cedo': 1, 'ajoelharam': 1, 'início': 1, 'jogo': 1, 'irã': 1, 'genacopa': 1, './xsk7xe3ris': 1}, 'neg'), ({'torcedoras': 1, 'acusam': 1, 'governo': 1, 'irã': 1, 'enviar': 1, 'espiões': 1, 'copa': 1, 'mundo': 1, 'vídeo': 1, 'mostra': 1, 'agentes': 1, 'catar': 1, 'infiltrados': 1, 'registrar': 1, 'qualquer': 1, 'ação': 1, 'protesto': 1, 'contra': 1, 'regime': 1, 'jornalista': 1, 'brasileira': 1, 'relata': 1, 'ameaças': 1, 'agressões': 1, 'genacopa': 1, './6dsijq18bb': 1}, 'neg'), ({'🇶🇦': 1, 'copa': 2, 'mundo': 1, 'catar': 1, 'uniforme': 1, 'ter': 1, 'eventos': 1, 'públicos': 1, 'pros': 1, 'jogos': 1, 'países': 1, 'começam': 1, 'anunciar': 1, 'medidas': 1, 'contra': 1, 'mundial': 1, 'país': 1, 'árabe': 1, '⤵️': 1, './dvmvlzge2s': 1}, 'neg'), ({'``': 1, 'contato': 2, 'goleiro': 1, 'vem': 1, 'cabeceio': 1, 'nada': 1, 'interfere': 1, 'ação': 1, 'messi': 1, 'além': 1, 'ter': 1, 'sido': 1, 'mínimo': 1, 'pênalti': 1, 'errou': 2, 'var': 1, 'chamar': 1, 'árbitro': 1, 'pareceu': 1, 'constrangido': 1, 'marcar': 1, 'erro': 1, 'grave': 1, 'nesta': 1, 'copa': 1, 'mundo': 1, \"''\": 1, 'ruelrenata': 1, './kqbdlzt8lf': 1}, 'neg'), ({'criticada': 1, 'fazer': 1, 'show': 1, 'copa': 1, 'ludmilla': 1, 'promete': 1, \"'contribuir\": 1, 'causas': 1, 'lgbtqia+': 1, \"'\": 1, 'qatar': 1, '📲': 1, './eqtthint36': 1, './ztmyjyilhs': 1}, 'neg'), ({'goleiro': 1, 'inter': 1, 'milão': 1, 'irrita': 1, 'jeito': 1, 'camarões': 1, 'jogar': 1, 'discute': 1, 'comissão': 1, 'técnica': 1, 'abandona': 1, 'copa': 1, 'mundo': 1, './ruxz8nf1yv': 1, 'futebolnaespn': 1, 'espnnoqatar': 1, 'espnnostarplus': 1}, 'neg'), ({'secretário-geral': 1, 'fala': 1, '400': 1, 'trabalhadores': 1, 'mortos': 1, 'qatar': 1, ';': 1, 'nota': 1, 'desmente': 1, 'fifaworldcup': 1, 'qatar2022': 1, './hk3vgqbgud': 1}, 'neg'), ({'entenda': 1, 'confusão': 1, 'seleção': 1, 'bélgica': 1, 'copa': 1, 'mundo': 1, '📲': 1, './abn0fecjb3': 1, '📷jack': 1, 'guez': 1, '/': 1, 'afp': 1, './9werwzez1l': 1}, 'neg'), ({'existe': 1, 'preparação': 1, 'estrear': 1, 'copa': 1, 'mundo': 1, \"'\": 1, 'analisa': 1, 'casagrande': 1, 'fifaworldcup': 1, 'qatar2022': 1, './sha6groxfk': 1}, 'neg'), ({'nuno': 1, 'mendes': 1, 'pode': 1, 'desfalque': 1, 'portugal': 1, 'restante': 1, 'copa': 1, 'lateral': 1, 'deixou': 1, 'campo': 1, 'chorando': 1, 'vitória': 1, 'sobre': 1, 'uruguai': 1, 'conta': 1, 'contratura': 1, 'coxa': 1, 'treinou': 1, 'elenco': 1, 'nesta': 1, 'quarta': 1, 'genacopa': 1, './06betpetgu': 1}, 'neg'), ({'gündogan': 1, 'coloca': 1, 'ponto': 1, 'final': 1, 'manifestações': 1, 'políticas': 1, 'alemanha': 1, 'copa': 1, 'mundo': 1, \"'agora\": 1, 'futebol': 1, 'festa': 1, \"'\": 1, './ra8htjxpcw': 1, 'futebolnaespn': 1, 'espnnoqatar': 1, 'espnnostarplus': 1}, 'neg'), ({'após': 1, 'lesão': 1, 'titular': 1, 'frança': 1, 'irá': 1, 'voltar': 1, 'europa': 1, 'seleção': 1, 'seguirá': 1, 'copa': 1, 'mundo': 1, '24': 1, 'jogadores': 1, './zgp9nvpagj': 1}, 'neg'), ({'quanto': 1, 'tempo': 1, 'jogador': 1, 'time': 1, 'coração': 1, 'marca': 1, 'copa': 1, 'mundo': 1, '🤔🇧🇷': 1, '📲': 1, 'liga': 1, './6sonmuyqgw': 1, './balwtjnxty': 1}, 'neg'), ({'ex-jogador': 1, 'seleção': 1, 'diz': 1, 'neymar': 1, 'danilo': 1, 'podem': 1, 'jogar': 1, 'copa': 1, '&': 2, 'gt': 2, ';': 2, './dic4lh94sk': 1, '📷': 1, 'giuseppe': 1, 'cacace/afp': 1, './99dcb4djs3': 1}, 'neg'), ({'técnico': 1, 'qatar': 1, 'troca': 1, 'goleiro': 1, 'titular': 1, 'após': 1, 'falhas': 1, 'estreia': 1, 'copa': 1, 'fifaworldcup': 1, 'qatar2022': 1, './emcytiuaqa': 1}, 'neg'), ({'mulher': 1, 'marquinhos': 1, 'diz': 1, 'sentir': 1, 'mal': 1, \"'olhares\": 1, 'diferentes': 1, \"'\": 1, 'qatar': 1, 'fifaworldcup': 1, 'qatar2022': 1, './wyf32tgvm6': 1}, 'neg'), ({'sentiu': 1, '🇫🇷': 1, '🚨': 1, 'véspera': 1, 'partida': 1, 'contra': 1, 'tunísia': 1, 'condição': 1, 'atacante': 1, 'gera': 1, 'dúvida': 1, 'respeito': 1, 'participação': 1, 'último': 1, 'jogo': 1, 'grupo': 1, 'd': 1, 'copa': 1, 'mundo': 1, 'mbappé': 1, 'frança': 1, 'copadomundo': 1, 'worldcup': 1, 'qatar2022': 1, './eotrkmrjtc': 1}, 'neg'), ({'manchester': 1, 'united': 1, 'ignora': 1, 'cristiano': 1, 'ronaldo': 1, 'deseja': 1, 'sorte': 1, 'dupla': 1, 'copa': 1, 'fifaworldcup': 1, 'qatar2022': 1, './zcyx2qua2x': 1}, 'neg'), ({'vergonha': 1, 'desastre': 1, 'imprensa': 1, 'mundial': 1, 'reagiu': 1, 'nova': 1, 'eliminação': 1, 'alemanha': 1, 'fase': 1, 'grupos': 1, 'copa': 1, 'espnnoqatar': 1, 'espnnostarplus': 1, './te07ioukrj': 1}, 'neg'), ({'palestina': 1, 'copa': 1, '🇵🇸': 1, 'manifestações': 1, 'chamam': 1, 'atenção': 1, 'mundial': 1, 'qatar': 1, '📲': 1, './mo6kwavlpe': 1, '📷efe': 1, '/': 2, 'epa': 1, 'tolga': 1, 'bozoglu': 1, './kkxjhzjtoo': 1}, 'neg'), ({'perfil': 1, 'espn': 1, 'artilheiro': 1, 'sérvia': 1, 'mitrovic': 1, 'promete': 1, \"'infernizar\": 1, \"'\": 1, 'brasil': 1, 'qatar': 1, 'espnnoqatar': 1, 'futebolnaespn': 1, './tdjkkhewkb': 1}, 'neg'), ({'chantageada': 1, '🇩🇪🏳️\\u200d🌈': 1, 'alemanha': 1, 'diz': 1, 'ter': 1, 'sido': 1, \"'chantageada\": 1, \"'\": 1, 'fifa': 1, 'contra': 1, 'uso': 1, 'braçadeira': 1, 'lgbt': 1, 'copa': 1, '📲': 1, 'confira': 1, './gscwyqdnpp': 1, './fzwqv5h6yv': 1}, 'neg'), ({'copa': 1, '2022': 1, 'refugiado': 1, 'guerra': 1, 'australiano': 1, 'chora': 1, 'banco': 1, 'explica': 1, 'motivo': 1, 'fifaworldcup': 1, 'qatar2022': 1, './o0up9zxzj9': 1}, 'neg'), ({'artilheiros': 1, 'copa': 1, 'três': 1, 'gols': 1, 'enner': 1, 'valencia': 1, 'torção': 1, 'joelho': 1, 'direito': 1, 'dúvida': 1, 'equador': 2, '🇪🇨': 1, 'x': 1, '🇸🇳': 1, 'senegal': 1, 'grupo': 1, 'precisa': 1, 'apenas': 1, 'empate': 1, 'confirmar': 1, 'classificação': 1, 'mata-mata': 1, 'genacopa': 1, './m3s9ofkbof': 1}, 'neg'), ({'casão': 1, 'contra': 1, 'seleção': 1, 'brasileira': 1, 'ter': 1, 'psicólogo': 1, 'copa': 1, 'fifaworldcup': 1, 'qatar2022': 1, './9d8c9zn2de': 1}, 'neg'), ({'apagão': 1, 'jogo': 1, 'copa': 1, 'mundo': 2, 'ngm': 1, 'reclama': 1, 'né': 1, 'agora': 1, 'raulino': 1, 'oliveira': 1, 'todo': 1, 'iria': 1, 'falar': 1, '🤷\\u200d♂️': 1}, 'neg'), ({'fifa': 1, 'puniu': 1, 'federação': 1, 'alemã': 1, 'futebol': 1, 'multa': 1, '10': 1, 'mil': 1, 'euros': 1, 'advertência': 1, 'descumprimento': 1, 'regulamento': 1, 'copa': 1, 'último': 1, 'sábado': 1, 'nenhum': 1, 'jogador': 1, 'alemanha': 1, 'compareceu': 1, 'entrevista': 1, 'coletiva': 1, 'obrigatória': 1, 'centro': 1, 'imprensa': 1, 'genacopa': 1, './vsfd1h1fe3': 1}, 'neg'), ({'rodrigo': 1, 'coutinho': 1, 'reação': 1, 'méxico': 1, 'decepção': 1, 'nesta': 1, 'copa': 1, './amigd29mx5': 1}, 'neg')]\n",
            "[({'comeeeeça': 1, 'segundo': 1, 'tempo': 2, 'argentina': 1, 'x': 1, 'méxico': 1, 'vivo': 1, 'siga': 1, 'tudo': 1, 'copa': 1, 'mundo': 1, 'real': 1, 'espnnoqatar': 1, 'futebolnaespn': 1, './yupaoxzrva': 1}, 'neu'), ({'2026': 1, 'ochoa': 1, '🇲🇽👋': 1, '📸': 1, 'afp': 1, 'lancecopa': 1, 'qatar': 1, 'copadomundo': 1, './yr0vghxqd5': 1}, 'neu'), ({'copa': 1, 'mundo': 1, 'música': 1, 'todos': 1, 'gostos': 1, '🙃': 1, 'preferido': 1, '🎤🎧💃🕺': 1, './gdhmq7brej': 1, 'espnnoqatar': 1, 'espnnostarplus': 1, 'futebolnaespn': 1, './rrvgn4v5kx': 1}, 'neu'), ({'segredo': 1, 'ar-condicionado': 1, 'estádio': 1, 'estreia': 1, 'brasil': 1, 'copa': 1, 'fifaworldcup': 1, 'qatar2022': 1, './iwgpxjozwh': 1}, 'neu'), ({'marrocos': 2, 'amplia': 1, 'canadá': 1, 'x': 1, 'vivo': 1, 'siga': 1, 'tudo': 1, 'copa': 1, 'mundo': 1, 'qatar': 1, 'tempo': 1, 'real': 1, 'futebolnaespn': 1, 'espnnoqatar': 1, './jnvfrkb894': 1}, 'neu'), ({'😀': 1, 'sextou': 1, 'copa': 2, 'sexta-feira': 1, 'mundo': 1, 'segue': 1, 'todo': 1, 'vapor': 1, 'qatar': 1, 'liga': 1, 'agenda': 1, 'dia': 1, 'conta': 1, 'quatro': 1, 'partidas': 1, 'destaque': 1, 'holanda': 1, 'inglaterra': 1, 'campo': 1, '13h00': 1, '16h00': 1, 'respectivamente': 1, 'aí': 1, 'vence': 1, 'hoje': 1, 'uolnacopa2022': 1, 'qatar2022': 1, './sjtcofonbr': 1}, 'neu'), ({'copa': 1, 'equilíbrio': 1, 'chega': 1, 'última': 1, 'rodada': 1, 'dois': 1, 'times': 1, 'eliminados': 1, 'fifaworldcup': 1, 'qatar2022': 1, './wmhneqvbvw': 1}, 'neu'), ({'🤔': 1, 'curiosidade': 1, 'inglaterra': 1, 'país': 1, 'gales': 1, 'enfrentaram': 1, 'nesta': 1, 'terça': 1, '29': 1, 'copa': 1, 'mundo': 1, 'grupo': 1, 'b': 1, 'partida': 1, 'terminou': 1, '3': 1, '0': 1, 'ingleses': 1, 'grande': 1, 'questão': 1, 'países': 1, 'jogam': 1, 'reino': 2, 'unido': 2, 'ambos': 1, 'uolnacopa2022': 1, './2hb09tzkub': 1}, 'neu'), ({'copa': 2, 'mundo': 1, 'salah': 1, 'ibra': 1, 'veja': 1, 'astros': 1, 'futebol': 1, 'mundial': 1, 'assistirão': 1, 'catar': 1, \"'pela\": 1, 'tv': 1, \"'\": 1, 'futebolnaespn': 1, './iwzw6st8t8': 1}, 'neu'), ({'``': 1, 'melhor': 1, 'pegar': 2, 'espanha': 1, 'alemanha': 1, 'quartas': 2, \"''\": 1, 'brasil': 1, 'pode': 1, 'desses': 1, 'dois': 1, 'gigantes': 1, 'copa': 1, 'caso': 1, 'classificação': 1, 'millylacombe': 1, 'acha': 1, 'alemães': 1, 'trariam': 1, 'problemas': 1, 'brasileiros': 1, 'concordam': 1, 'uolnacopa2022': 1, 'possedebolauol': 1, './dhuea0uyg8': 1}, 'neu'), ({'conhecia': 1, 'füllkrug': 1, 'decisivo': 1, 'alemanha': 1, 'contra': 1, 'espanha': 1, 'atacante': 1, 'segunda': 1, 'divisão': 1, 'quase': 1, 'ficou': 1, 'copa': 1, 'genacopa': 1, './pv8rrzoqsb': 1}, 'neu'), ({'diego': 1, 'garcia': 1, 'enquanto': 1, 'bolsonaristas': 1, 'tomam': 1, 'chuva': 1, 'eduardo': 1, 'bolsonaro': 1, 'curte': 1, 'copa': 1, 'qatar': 1, './bryoimppru': 1}, 'neu'), ({'direto': 1, 'qatar': 1, 'torcedores': 1, 'mexicanos': 1, 'comentaram': 1, 'sobre': 1, 'desempenho': 1, 'dani': 1, 'alves': 1, 'pumas': 1, 'disseram': 1, 'brasileiro': 1, 'mereceu': 1, 'vaga': 1, 'copa': 1, 'espnnoqatar': 1, 'ad': 1, 'motorolabr': 1, './nbi2jw43so': 1}, 'neu'), ({'brasil': 1, 'portugal': 1, 'vencem': 1, 'palpites': 1, 'colunistas': 1, '5º': 1, 'dia': 1, 'copa': 1, 'fifaworldcup': 1, 'qatar2022': 1, './g0w4cfwnxw': 1}, 'neu'), ({'quanto': 1, 'ganha': 1, 'campeão': 1, 'copa': 1, 'fifa': 1, 'distribui': 1, 'r': 1, '$': 1, '2': 1, 'bi': 1, 'prêmios': 1, 'veja': 1, 'fifaworldcup': 1, 'qatar2022': 1, './3gnamwqb7s': 1}, 'neu'), ({'dia': 1, 'copa': 1, 'mundo': 1, 'senhoras': 1, 'senhores': 1, 'ficam': 1, 'jogos': 1, 'agora': 1, '🙃🙃🙃': 1, 'arnaldojribeiro': 1, 'ultrajano': 1, 'uolnacopa2022': 1, './8ogmhidmzs': 1}, 'neu'), ({'goleiro': 1, 'chelsea': 1, \"'caça\": 1, 'borboleta': 1, \"'\": 1, 'holanda': 1, 'vence': 1, 'senegal': 1, 'estreia': 1, 'copa': 1, 'mundo': 1, 'qatar': 1, 'espnnoqatar': 1, 'futebolnaespn': 1, './pddcrz4hky': 1}, 'neu'), ({'após': 1, 'pegar': 1, 'pênalti': 1, 'courtois': 1, 'analisa': 1, 'estreia': 1, 'bélgica': 1, 'copa': 1, 'mundo': 1, \"'não\": 1, 'existe': 1, 'jogo': 1, 'fácil': 1, \"'\": 1, './6cuyyddjk6': 1}, 'neu'), ({'hermanos': 1, 'vão': 1, 'ter': 1, 'aguentar': 1, '🤣🤣🤣': 1, 'salem': 1, 'al-dawsar': 1, 'herói': 1, 'arábia': 1, 'saudita': 1, 'substituiu': 1, 'lionel': 1, 'messi': 1, 'campanha': 1, 'publicitária': 1, 'viralizou': 1, 'antes': 1, 'copa': 1, 'mundo': 1, 'genacopa': 1, './uakrtt9xq3': 1}, 'neu'), ({'seleção': 1, 'portugal': 1, 'vai': 1, 'copa': 1, 'mundo': 1, 'catar': 1, \"'\": 1, 'afirma': 1, 'fernando': 1, 'santos': 1, 'futebolnaespn': 1, './3f43sxwi65': 1}, 'neu'), ({'vini': 1, 'jr': 1, 'neymar': 2, '🏆🔥🇧🇷': 1, 'principal': 1, 'nome': 1, 'seleção': 1, 'brasileira': 1, 'nessa': 1, 'copa': 1, 'mundo': 1, 'torcedor': 1, 'briga': 1, 'boa': 1, 'hein': 1, '🤔🇧🇷': 1, 'primeirolance': 1, 'vinijr': 1, 'seleçãobrasileira': 1, 'craque': 1, './dda3zjv0dc': 1}, 'neu'), ({'🍺': 1, 'álcool': 1, 'qatar': 2, 'colunista': 1, 'juliogomesfilho': 1, 'visitar': 1, 'centro': 1, 'distribuição': 1, 'bebida': 1, 'alcoólica': 1, 'lá': 1, 'mostrou': 1, 'detalhes': 1, 'mercado': 1, 'vende': 1, 'carne': 1, 'porco': 1, 'conta': 1, 'segurança': 1, 'reforçada': 1, 'qatar2022': 1, 'copadomundo': 1, 'uolnacopa2022': 1, './iay9jrmdea': 1}, 'neu'), ({'neymar': 2, 'estádio': 2, 'fake': 1, 'aparece': 1, 'brasil': 1, 'x': 1, 'suíça': 1, \"'engana\": 1, \"'\": 1, 'tietado': 1, 'torcedores': 1, 'arquibancada': 1, 'qatar': 1, 'futebolnaespn': 1, 'espnnoqatar': 1, './fkvcxvtcst': 1}, 'neu'), ({'coincidência': 1, 'cr7': 1, 'comemora': 1, 'gol': 1, 'copa': 1, 'frente': 1, 'faixa': 1, 'messi': 1, 'fifaworldcup': 1, 'qatar2022': 1, './klazxkq4h6': 1}, 'neu'), ({'jornal': 1, 'time': 1, 'beckham': 1, 'encaminha': 1, 'acordo': 1, 'contratar': 1, 'messi': 1, 'após': 1, 'copa': 1, './vymch3h20w': 1}, 'neu'), ({'ge': 1, 'transmite': 1, 'todos': 1, 'jogos': 1, 'copa': 1, 'vivo': 1, 'graça': 1, '📺': 1, 'assista': 1, './lshnr9h8mi': 1}, 'neu'), ({'medina': 1, 'manda': 1, 'recado': 1, 'amigo': 1, 'neymar': 1, 'dia': 1, 'antes': 1, 'estreia': 1, 'copa': 1, ';': 1, 'veja': 1, 'fifaworldcup': 1, 'qatar2022': 1, './tcymeypzwd': 1}, 'neu'), ({'copa': 1, 'sob': 1, 'olhos': 1, 'anfitriões': 1, 'espn': 1, 'vai': 1, 'acampamento': 1, 'deserto': 1, 'assiste': 1, 'abertura': 1, 'família': 1, 'qatar': 1, 'espnnoqatar': 1, 'scbrasil': 1, 'espnnostarplus': 1, './g00v2wrpsg': 1}, 'neu'), ({'✅l': 1, 'r': 1, 'hexa': 1, 'vem': 2, '✅': 1, 'comitiva': 1, 'seleção': 1, 'brasileira': 1, 'catar': 1, 'preparando-se': 1, 'mundial': 1, 'ano': 1, 'germán': 1, 'cano': 1, 'pode': 1, 'pintar': 1, 'rival': 1, 'veja': 1, 'lance': 1, 'rápido': 1, 'edição': 1, '18h': 1, './4axbknhgqe': 1}, 'neu'), ({'torcedor': 1, 'senegalês': 1, 'imita': 1, 'richarlison': 1, 'faz': 1, \"'dança\": 1, 'pombo': 1, \"'\": 1, 'qatar': 1, ';': 1, 'veja': 1, 'fifaworldcup': 1, 'qatar2022': 1, './x2cuj8pczw': 1}, 'neu'), ({'ranking': 1, 'times': 1, 'brasileiros': 1, 'conhecidos': 1, 'torcedores': 1, '32': 1, 'seleções': 1, 'qatar': 1, 'gigante': 1, 'esquecido': 1, '...': 1, '👉': 1, './pabnchkgzd': 1, 'futebolnaespn': 1, 'espnnoqatar': 1, './odjq0qnqoj': 1}, 'neu'), ({'tempo': 2, 'real': 2, 'país': 1, 'gales': 1, 'x': 1, 'irã': 1, 'vivo': 1, 'siga': 1, 'tudo': 1, 'copa': 1, 'mundo': 1, 'qatar': 1, 'futebolnaespn': 1, 'espnnoqatar': 1, './ukvqbwxxfr': 1}, 'neu'), ({'alemães': 1, 'esperavam': 1, '...': 1, \"'inimigo\": 1, \"'\": 1, 'mora': 1, 'casa': 1, 'sabia': 1, 'todos': 1, 'gols': 1, 'japão': 1, 'copa': 1, 'vieram': 1, 'alemanha': 1, 'futebolnaespn': 1, 'espnnoqatar': 1, './mzfrduuo1m': 1}, 'neu'), ({'fifa': 1, 'discute': 1, 'fazer': 1, 'mundial': 1, 'clubes': 1, 'flamengo': 1, 'qatar': 1, './yckaxn8inq': 1}, 'neu'), ({'caos': 1, 'sósia': 1, 'cristiano': 1, 'ronaldo': 1, 'rouba': 1, 'cena': 1, 'meio': 1, 'confusão': 1, 'torcidas': 1, 'bélgica': 1, 'canadá': 1, 'qatar': 1, ';': 1, 'veja': 1, 'espnnoqatar': 1, 'scbrasil': 1, 'espnnostarplus': 1, './kjaadj7nhe': 1}, 'neu'), ({'destaque': 1, 'vitória': 1, 'seleção': 1, 'brasileira': 1, '1': 1, '0': 1, 'diante': 1, 'suíça': 1, 'vini': 1, 'jr': 1, 'nome': 1, 'envolvido': 1, 'possível': 1, 'relacionamento': 1, 'influenciadora': 1, 'julia': 1, 'rodrigues': 1, 'aumentar': 1, 'boatos': 1, 'modelo': 1, 'postou': 1, 'algumas': 1, 'fotos': 1, 'estádio': 1, '974': 1, 'qatar': 1, 'onde': 1, 'acompanhou': 1, 'partida': 1, './rghfxly7rw': 1}, 'neu'), ({'ih': 1, 'galvão': 1, 'recebe': 1, 'prêmio': 1, 'qatar': 1, 'cléber': 1, 'machado': 1, 'reclama': 1, \"'podiam\": 1, 'mandar': 1, 'pra': 1, 'mim': 1, \"'\": 1, '📲': 1, 'entenda': 1, './qtzhsqagxa': 1, './ipqzoeargs': 1}, 'neu'), ({'melhor': 1, 'jogo': 1, 'copa': 1, '🤔⚽🏆': 1, 'liga': 1, 'números': 1, 'empate': 1, 'espanha': 2, 'alemanha': 2, 'hoje': 1, 'merecia': 1, 'ter': 1, 'saído': 1, 'vitória': 1, 'torcedor': 1, '🇪🇸x🇩🇪': 1, 'copadomundo': 1, 'worldcup': 1, 'mostratuaforça': 1, './uctfpcopqq': 1}, 'neu'), ({'valeu': 1, 'pena': 1, 'acordar': 1, 'cedo': 1, 'assistir': 1, 'copa': 1, 'mundo': 1, 'né': 1, 'genacopa': 1, './fikty0uhbp': 1}, 'neu'), ({'vovôs': 1, \"'\": 2, 'bélgica': 1, 'copa': 1, 'mundo': 1, 'sofreram': 1, 'contra': 1, 'palmeiras': 1, \"'eu\": 1, 'sempre': 1, 'comprava': 1, 'caras': 1, 'master': 1, 'league': 1, './kqgs17bynn': 1, 'futebolnaespn': 1, 'espnnoqatar': 1}, 'neu'), ({'gretchen': 1, 'rebate': 1, 'críticas': 1, \"'não\": 1, 'quebrei': 1, 'nenhuma': 1, 'lei': 1, 'qatar': 1, \"'\": 1, 'fifaworldcup': 1, 'qatar2022': 1, './5qpaerxwi2': 1}, 'neu'), ({'durante': 1, 'live': 1, '“': 1, 'três': 1, 'figuras': 1, '”': 1, 'levantado': 1, 'assunto': 1, 'sobre': 1, 'grupo': 1, 'copa': 1, 'mundo': 1, 'quais': 1, 'seleções': 1, 'classificadas': 1, 'próxima': 1, 'fase': 1, 'competição': 1, '⚽🇪🇸🇯🇵🇩🇪🇨🇷': 1, 'mostratuaforça': 1, 'lancecopa': 1, 'brasil': 1, './lfkwwx35o3': 1}, 'neu'), ({'colocando': 1, 'força': 1, 'total': 1, 'campo': 1, 'precisando': 1, 'empate': 1, 'bélgica': 1, 'promove': 1, 'estreia': 1, 'lukaku': 1, 'copa': 1, 'mundo': 1, 'genacopa': 1, './pyjjw6ch2v': 1}, 'neu'), ({'benzema': 1, 'recuperado': 1, 'forma': 1, \"'milagrosa\": 1, \"'\": 1, 'pronto': 1, 'voltar': 1, 'copa': 1, 'técnico': 1, 'frança': 1, 'direto': 1, 'sobre': 1, 'possibilidade': 1, './gpw2mz6f5y': 1, 'futebolnaespn': 1, 'espnnoqatar': 1, 'espnnostarplus': 1}, 'neu'), ({'geração': 1, 'ouro': 1, 'pode': 1, 'mostrar': 1, 'copa': 1, 'cura': 1, 'neymardependência': 1, 'fifaworldcup': 1, 'qatar2022': 1, './ba54pt952n': 1}, 'neu'), ({'copadascamisas': 1, 'camisa': 1, 'bonita': 1, 'copa': 1, 'vote': 1, 'vamos': 1, 'definir': 1, 'melhor': 1, 'uniforme': 1, 'vai': 1, 'entrar': 1, 'campo': 1, 'catar': 1, 'genacopa': 1, './hwichr6xte': 1}, 'neu'), ({'casa': 1, 'inglaterra': 1, 'qatar': 1, 'j_castelobranco': 1, 'mostra': 1, 'bastidores': 1, 'ct': 1, 'seleção': 1, 'inglesa': 1, 'espnnoqatar': 1, 'futebolnaespn': 1, './bavmnfs8dr': 1}, 'neu'), ({'baixinhos': 1, \"'\": 2, 'x': 2, 'grandalhões': 1, 'centímetros': 1, 'podem': 1, 'definir': 1, \"'final\": 1, 'polônia': 1, 'argentina': 1, 'copa': 1, 'espnnoqatar': 1, 'futebolnaespn': 1, './oqm2j3rg41': 1}, 'neu'), ({'fã': 1, 'esporte': 1, 'recado': 1, 'rnato_rodrigues': 1, 'análise': 1, 'todos': 1, 'jogos': 1, 'primeira': 1, 'fase': 1, 'copa': 1, 'amanhã': 1, '13h': 1, 'star': 1, 'plus': 1, 'veja': 1, 'aqui': 1, '👉': 1, './tzkifvbtvg': 1, './loaiuwsbrf': 1}, 'neu'), ({'copadascamisas': 1, 'camisa': 1, 'bonita': 1, 'copa': 1, 'vote': 1, 'vamos': 1, 'definir': 1, 'melhor': 1, 'uniforme': 1, 'vai': 1, 'entrar': 1, 'campo': 1, 'catar': 1, 'genacopa': 1, './nolxziepyi': 1}, 'neu'), ({'fim': 1, 'primeiro': 1, 'tempo': 1, 'holanda': 1, 'domina': 1, 'facilmente': 1, 'qatar': 1, 'vai': 1, 'vestiário': 1, 'vantagem': 1, '1': 1, '0': 1, 'placar': 1, 'lancecopa': 1, 'copadomundofifa': 1, 'qatar2022': 1, '📷efe': 1, '/': 2, 'epa': 1, 'tolga': 1, 'bozoglu': 1, './beqypetfkh': 1}, 'neu'), ({'cristiano': 1, 'ronaldo': 1, 'titular': 1, 'coreia': 1, 'sul': 1, 'x': 1, 'portugal': 1, 'vivo': 1, 'siga': 1, 'tudo': 1, 'copa': 1, 'mundo': 1, 'qatar': 1, 'tempo': 1, 'real': 1, 'espnnoqatar': 1, 'futebolnaespn': 1, './uj1lrxpdbl': 1}, 'neu'), ({'alicia': 1, 'klein': 1, 'senegal': 1, 'vence': 1, 'equador': 1, 'honra': 1, 'diop': 1, 'avança': 1, 'copa': 1, 'técnicos': 1, 'africanos': 1, './dzly9dbgyd': 1}, 'neu'), ({'chegou': 1, 'hora': 1, 'polônia': 1, 'x': 1, 'arábia': 1, 'saudita': 1, 'vivo': 1, 'siga': 1, 'tudo': 1, 'copa': 1, 'mundo': 1, 'qatar': 1, 'tempo': 1, 'real': 1, 'espnnoqatar': 1, 'futebolnaespn': 1, './m0d6fl11os': 1}, 'neu'), ({'saiba': 1, 'quais': 1, 'opções': 1, 'tite': 1, 'treinou': 1, 'perder': 1, 'neymar': 1, 'copa': 1, 'fifaworldcup': 1, 'qatar2022': 1, './pgjla4riss': 1}, 'neu'), ({'📢sextou': 1, 'resenhaespn': 1, 'hoje': 1, '19h30': 1, 'plihalespn': 1, 'convidados': 1, 'estarão': 1, 'juntos': 1, 'repercutir': 1, 'todos': 1, 'últimos': 1, 'acontecimentos': 1, 'copa': 1, 'mundo': 1, 'fique': 1, 'ligado': 1, 'assista': 1, 'vivo': 1, 'espnnostarplus': 1, 'acesse': 1, './yjbsbct8rh': 1, 'espnnoqatar': 1, './bv598csatq': 1}, 'neu'), ({'real': 1, 'madrid': 1, 'mostra': 1, 'versão': 1, \"'retrô\": 1, \"'\": 1, 'brasileiros': 1, 'copa': 1, ';': 1, 'veja': 1, 'fifaworldcup': 1, 'qatar2022': 1, './rv8k0vlgdu': 1}, 'neu'), ({'uruguaios': 1, 'cantando': 1, 'qatar': 1, 'tetracampeões': 1, 'mundo': 1, '🏆🏆🇺🇾🏆🏆': 1, '👉': 1, './sij4xa5v2t': 1, 'espnnoqatar': 1, './v24iimzng3': 1}, 'neu'), ({'vovôs': 1, \"'\": 2, 'bélgica': 1, 'copa': 1, 'mundo': 1, 'sofreram': 1, 'contra': 1, 'palmeiras': 1, \"'eu\": 1, 'sempre': 1, 'comprava': 1, 'caras': 1, 'master': 1, 'league': 1, './kqgs17bynn': 1, 'futebolnaespn': 1, 'espnnoqatar': 1, 'espnnostarplus': 1}, 'neu'), ({'belle': 1, 'silva': 2, 'comanda': 1, \"'bonde\": 1, \"'\": 1, 'familiares': 1, 'thiago': 1, 'qatar': 1, ';': 1, 'assista': 1, 'fifaworldcup': 1, 'qatar2022': 1, './egeisxcpju': 1}, 'neu')]\n"
          ]
        }
      ]
    },
    {
      "cell_type": "markdown",
      "source": [
        "# Etapa 4 - Implementação do Algoritmo de Aprendizado"
      ],
      "metadata": {
        "id": "pTQqkYpwl6wX"
      }
    },
    {
      "cell_type": "markdown",
      "source": [
        "## Preparando um Dataframe para fazer a análise"
      ],
      "metadata": {
        "id": "0WwlMjNrxOL8"
      }
    },
    {
      "cell_type": "code",
      "source": [
        "# Dataframe que será utilizado para armazenar a classificação\n",
        "df_classificacao = df_total[['user_id', 'username', 'tweet', 'link', 'palavra_chave']]"
      ],
      "metadata": {
        "id": "I3_gWCDZmgZ8"
      },
      "execution_count": null,
      "outputs": []
    },
    {
      "cell_type": "code",
      "source": [
        "# Tokenizando as palavras\n",
        "df_classificacao['bag_of_words'] = tokenizar(df_classificacao['tweet'])\n",
        "\n",
        "# Retirando Stopwords\n",
        "limpo = list()\n",
        "for l in df_classificacao['bag_of_words']:\n",
        "  ss = tirar_stop(l)\n",
        "  limpo.append(ss)\n",
        "df_classificacao['bag_of_words'] = limpo\n",
        "\n",
        "# Criando bag of words\n",
        "dfbag_of_words = list()\n",
        "for l in df_classificacao['bag_of_words']:\n",
        "  bow = bag(l)\n",
        "  dfbag_of_words.append(bow)\n",
        "df_classificacao['bag_of_words'] = dfbag_of_words"
      ],
      "metadata": {
        "id": "5MnRt_ttmjjn"
      },
      "execution_count": null,
      "outputs": []
    },
    {
      "cell_type": "markdown",
      "source": [
        "## Aplicando o modelo que foi treinado"
      ],
      "metadata": {
        "id": "GcoChQj3xTfF"
      }
    },
    {
      "cell_type": "code",
      "source": [
        "# criando função para classificar tweets\n",
        "def classificar(entrada, nome, coluna_dataframe, classificador):\n",
        "  classificacao = list()\n",
        "  for l in entrada[coluna_dataframe]:\n",
        "    classificado = classificadores[classificador].classify(l)\n",
        "    classificacao.append(classificado)\n",
        "  entrada[nome] = classificacao\n",
        "\n",
        "\n",
        "## MAIN\n",
        "classificar(df_classificacao, 'classificacao_MaxentClassifier', 'bag_of_words', 0)\n",
        "classificar(df_classificacao, 'classificacao_SklearnClassifier', 'bag_of_words', 1)\n",
        "classificar(df_classificacao, 'classificacao_NaiveBayesClassifier', 'bag_of_words', 2)"
      ],
      "metadata": {
        "id": "KCjypjWp8dEb"
      },
      "execution_count": null,
      "outputs": []
    },
    {
      "cell_type": "code",
      "source": [
        "# mostrando Dataframe final com as classificações automáticas aplicadas\n",
        "df_classificacao.to_csv('mineração_arquivo_classificado.csv')"
      ],
      "metadata": {
        "id": "bIdy13yntSo4"
      },
      "execution_count": null,
      "outputs": []
    }
  ]
}